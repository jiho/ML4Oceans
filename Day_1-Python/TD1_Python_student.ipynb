{
 "cells": [
  {
   "cell_type": "markdown",
   "id": "2b07266d",
   "metadata": {},
   "source": [
    "<span style=\"font-size: 300%; font-weight: 700\">Introduction to Python for data science</span>\n",
    "\n",
    "During the practical sessions of the afternoon, we will use the Python language to implement machine learning models. Here is a (very short primer, to make sure everyone is on the same page)."
   ]
  },
  {
   "cell_type": "markdown",
   "id": "2b6654a9",
   "metadata": {
    "jp-MarkdownHeadingCollapsed": true,
    "tags": []
   },
   "source": [
    "# Jupyter Notebooks"
   ]
  },
  {
   "cell_type": "markdown",
   "id": "61c67c9c",
   "metadata": {
    "tags": []
   },
   "source": [
    "This is a Jupyter notebook, an interactive interface to coding in Python. It is constituted of cells, that you run using `SHIFT+Enter`. Cells can contain text (formated in Markdown) or Python code. Run the cell below."
   ]
  },
  {
   "cell_type": "code",
   "execution_count": 1,
   "id": "c6717578",
   "metadata": {},
   "outputs": [
    {
     "data": {
      "text/plain": [
       "2"
      ]
     },
     "execution_count": 1,
     "metadata": {},
     "output_type": "execute_result"
    }
   ],
   "source": [
    "1+1"
   ]
  },
  {
   "cell_type": "markdown",
   "id": "ec256465",
   "metadata": {},
   "source": [
    "Add a new cell below this one by clicking to edit the cell and using the buttons on the right or by just selecting the cell and using the `b` shortcut. Write some code and execute it."
   ]
  },
  {
   "cell_type": "markdown",
   "id": "0f6101ff",
   "metadata": {},
   "source": [
    "To execute any command (like adding a cell, changing from Markdown to code, executing a cell, several cells etc.) you can use the command palette, invoked with `SHIFT+CTRL+C` (`CMD` on Mac), and just type some words of the command you want to run. Use the command palette to 'Run all cells above selected cell'."
   ]
  },
  {
   "cell_type": "markdown",
   "id": "b695d9be",
   "metadata": {},
   "source": [
    "The implementation in JupyterLab (which we are using here) has built-in help. Click the blue `[+]` button on the left and click on \"Show Contextual Help\". This should open a panel on the right; if not, place it somewhere you can see it. Help on the current object/function you are editing will appear there."
   ]
  },
  {
   "cell_type": "markdown",
   "id": "eff0580a",
   "metadata": {},
   "source": [
    "On the left you also have a table of contents of the notebook you are currently editing, which will be useful for navigation. You can also collapse section by clicking on the triangle that appears on the left of titles when you hover the mouse."
   ]
  },
  {
   "cell_type": "markdown",
   "id": "4f08da7a",
   "metadata": {
    "jp-MarkdownHeadingCollapsed": true,
    "tags": []
   },
   "source": [
    "# Data types and basic data containers"
   ]
  },
  {
   "cell_type": "markdown",
   "id": "c193f3a4",
   "metadata": {
    "tags": []
   },
   "source": [
    "## Data types\n",
    "\n",
    "Python has built in data types and many others are defined through modules. In data science we often use the types defined by the module `numpy` (to access functions in a module, we need to use the `import` statement). The type can be returned by the function `type()` or, in the case of `numpy` objects, by the `.dtype` attribute."
   ]
  },
  {
   "cell_type": "code",
   "execution_count": 2,
   "id": "c2163b1c",
   "metadata": {},
   "outputs": [
    {
     "name": "stdout",
     "output_type": "stream",
     "text": [
      "<class 'int'>\n",
      "<class 'float'>\n",
      "<class 'str'>\n",
      "<class 'bool'>\n",
      "<class 'numpy.float32'>\n",
      "<class 'numpy.float64'>\n"
     ]
    },
    {
     "data": {
      "text/plain": [
       "dtype('float64')"
      ]
     },
     "execution_count": 2,
     "metadata": {},
     "output_type": "execute_result"
    }
   ],
   "source": [
    "x = 3\n",
    "print(type(x))\n",
    "x = 3.0\n",
    "print(type(x))\n",
    "x = 'foo'\n",
    "print(type(x))\n",
    "x = True\n",
    "print(type(x))\n",
    "\n",
    "# use numpy types for finer control\n",
    "import numpy\n",
    "x = numpy.single(3)\n",
    "print(type(x))\n",
    "x = numpy.double(3)\n",
    "print(type(x))\n",
    "x.dtype"
   ]
  },
  {
   "cell_type": "markdown",
   "id": "9bfda530",
   "metadata": {},
   "source": [
    "## Lists\n",
    "\n",
    "To store a collection of values of the same type, Python has unidimensional arrays in the form of lists. Lists are created with `[`, subseted with `[` also, subseted elements can be assigned new values, and the list can grow thanks to the `.append()` method. The length of a list, like other iterable objects can be given by the function `len()`."
   ]
  },
  {
   "cell_type": "code",
   "execution_count": 3,
   "id": "485c6026",
   "metadata": {},
   "outputs": [
    {
     "name": "stdout",
     "output_type": "stream",
     "text": [
      "this\n",
      "is\n",
      "list\n",
      "['this', 'is', 'a', 'duck']\n",
      "['this', 'is', 'a', 'duck', '!']\n",
      "5\n"
     ]
    }
   ],
   "source": [
    "x = ['this','is','a','list']\n",
    "\n",
    "# get one element by position (only one)\n",
    "print(x[0])\n",
    "print(x[1])\n",
    "\n",
    "# from the end\n",
    "print(x[-1])\n",
    "\n",
    "# change a value\n",
    "x[3] = 'duck'\n",
    "print(x)\n",
    "\n",
    "# add an element\n",
    "x.append('!')\n",
    "print(x)\n",
    "\n",
    "# get the new length\n",
    "print(len(x))"
   ]
  },
  {
   "cell_type": "markdown",
   "id": "b72ea4c6",
   "metadata": {},
   "source": [
    "**Note:** We have just seen:\n",
    "- statements, used as `statement arg`, \n",
    "- functions, used as `function_name(object, arg2, arg3)`, which are defined generally and usable on many object types; they always give a similar result.\n",
    "- methods, used as `object.method_name(arg1, arg2)`, which are functions defined specifically for the type of `object` and that perform an action adapted to this object.\n",
    "- attributes, used as `object.attribute`, which are set properties of `object`."
   ]
  },
  {
   "cell_type": "markdown",
   "id": "9435c3ed",
   "metadata": {},
   "source": [
    "**Exercise:** *Create a vector containing the name of the four seasons, and another vector containing four booleans stating whether you like the season or not. Extract the second season.*"
   ]
  },
  {
   "cell_type": "code",
   "execution_count": 4,
   "id": "ebcbda80",
   "metadata": {},
   "outputs": [],
   "source": []
  },
  {
   "cell_type": "markdown",
   "id": "7247d4a5",
   "metadata": {},
   "source": [
    "## Dictionaries\n",
    "\n",
    "Dictionaries are used to store key:value pairs. The keys are strings. The values can be of any type and shape. Dictionaries are defined with `{`, subsetted with `[` using keys as indexes."
   ]
  },
  {
   "cell_type": "code",
   "execution_count": 5,
   "id": "76e8c6d5",
   "metadata": {},
   "outputs": [
    {
     "name": "stdout",
     "output_type": "stream",
     "text": [
      "Irisson\n",
      "42\n"
     ]
    }
   ],
   "source": [
    "person = {'lastname': 'Irisson', 'surnames': ['Jean-Olivier', 'Marcel', 'Joseph'], 'age': 42}\n",
    "print(person['lastname'])\n",
    "print(person['age'])"
   ]
  },
  {
   "cell_type": "code",
   "execution_count": 6,
   "id": "f39e91e4",
   "metadata": {},
   "outputs": [
    {
     "name": "stdout",
     "output_type": "stream",
     "text": [
      "{'lastname': 'Irisson', 'surnames': ['Jean-Olivier', 'Marcel', 'Joseph'], 'age': 10}\n"
     ]
    }
   ],
   "source": [
    "# we can also asign new values to a subsetted element\n",
    "person['age'] = 10\n",
    "print(person)"
   ]
  },
  {
   "cell_type": "markdown",
   "id": "399198ed",
   "metadata": {},
   "source": [
    "**Exercise:** *Create a dictionary with a city name and its coordinates in lat and lon (Google is your friend). Then create a list of 3 such dictionnaries. Extract the name of the third city in your dictionary.*"
   ]
  },
  {
   "cell_type": "code",
   "execution_count": 7,
   "id": "edc0520c",
   "metadata": {},
   "outputs": [],
   "source": []
  },
  {
   "cell_type": "markdown",
   "id": "515aa2fb",
   "metadata": {
    "jp-MarkdownHeadingCollapsed": true,
    "tags": []
   },
   "source": [
    "# A note on printing strings"
   ]
  },
  {
   "cell_type": "markdown",
   "id": "0c5a4f4d",
   "metadata": {
    "jp-MarkdownHeadingCollapsed": true,
    "tags": []
   },
   "source": [
    "To display values (i.e. the result of a computation) one can provide it as the last element of a cell but, to display several, this is often complicated and we have to use the `print()` function instead, like we did above. To format the printed string a more advanced way, we can use the (new in Python 3.6) 'f' string syntax."
   ]
  },
  {
   "cell_type": "code",
   "execution_count": 8,
   "id": "5dd51eb0",
   "metadata": {},
   "outputs": [
    {
     "name": "stdout",
     "output_type": "stream",
     "text": [
      "My name is Irisson\n",
      "My lastname is  Irisson , my first name is Jean-Olivier\n",
      "I am 10 years old\n",
      "My lastname is Irisson, my first name is Jean-Olivier\n",
      "I am 10 years old\n",
      "Ten years ago I was 0 years old\n",
      "Pi is 3.141592653589793\n",
      "Pi is 3.142\n"
     ]
    }
   ],
   "source": [
    "print('My name is', person['lastname'])\n",
    "print('My lastname is ', person['lastname'], ', my first name is', person['surnames'][0])\n",
    "print('I am', person['age'], 'years old')\n",
    "\n",
    "print(f\"My lastname is {person['lastname']}, my first name is {person['surnames'][0]}\")\n",
    "# NB: use double quotes to avoid the conflict with single quotes in the dict keys\n",
    "print(f\"I am {person['age']} years old\")\n",
    "# one can run arbitrary python code in {}, including computation\n",
    "print(f\"Ten years ago I was {person['age'] - 10} years old\")\n",
    "\n",
    "# print and format numbers\n",
    "print(f\"Pi is {numpy.pi}\")\n",
    "print(f\"Pi is {numpy.pi:.3f}\") # three decimal places"
   ]
  },
  {
   "cell_type": "markdown",
   "id": "6abe1826",
   "metadata": {},
   "source": [
    "**Exercise:** *Print Euler's number 2.7182818284 with 4 digits after the decimal point.*"
   ]
  },
  {
   "cell_type": "code",
   "execution_count": 9,
   "id": "17591051",
   "metadata": {},
   "outputs": [],
   "source": []
  },
  {
   "cell_type": "markdown",
   "id": "7459b797",
   "metadata": {
    "jp-MarkdownHeadingCollapsed": true,
    "tags": []
   },
   "source": [
    "# Iteration"
   ]
  },
  {
   "cell_type": "markdown",
   "id": "e95ba8aa",
   "metadata": {},
   "source": [
    "Lists and dictionaries are iterable, meaning that we can iterate over their elements to perform operations.\n",
    "\n",
    "## For loops\n",
    "\n",
    "The most usual form of iteration is the `for` loop. You have probably seen it using an integer index."
   ]
  },
  {
   "cell_type": "code",
   "execution_count": 10,
   "id": "00d66e66",
   "metadata": {},
   "outputs": [
    {
     "name": "stdout",
     "output_type": "stream",
     "text": [
      "This is turn 0 of the loop and the temperature is 15\n",
      "This is turn 1 of the loop and the temperature is 27\n",
      "This is turn 2 of the loop and the temperature is 14\n",
      "This is turn 3 of the loop and the temperature is 9\n"
     ]
    }
   ],
   "source": [
    "# let us define a vector of seasons and a vector of temperatures in Paris during that season\n",
    "seasons = ['Spring', 'Summer', 'Fall', 'Winter']\n",
    "temp_paris = [15, 27, 14, 9]\n",
    "\n",
    "for i in range(len(temp_paris)):\n",
    "    print(f\"This is turn {i} of the loop and the temperature is {temp_paris[i]}\")"
   ]
  },
  {
   "cell_type": "markdown",
   "id": "4b7e416f",
   "metadata": {},
   "source": [
    "Actually, in Python, you can iterate on the elements of any iterable object directly"
   ]
  },
  {
   "cell_type": "code",
   "execution_count": 11,
   "id": "cdf2efa7",
   "metadata": {},
   "outputs": [
    {
     "name": "stdout",
     "output_type": "stream",
     "text": [
      "The temperature is 15\n",
      "The temperature is 27\n",
      "The temperature is 14\n",
      "The temperature is 9\n"
     ]
    }
   ],
   "source": [
    "for temp in temp_paris:\n",
    "    print(f\"The temperature is {temp}\")"
   ]
  },
  {
   "cell_type": "markdown",
   "id": "678cd35a",
   "metadata": {},
   "source": [
    "And if you still need the integer index, you can use `enumerate()`"
   ]
  },
  {
   "cell_type": "code",
   "execution_count": 12,
   "id": "553581ba",
   "metadata": {},
   "outputs": [
    {
     "name": "stdout",
     "output_type": "stream",
     "text": [
      "The temperature in Spring is 15\n",
      "The temperature in Summer is 27\n",
      "The temperature in Fall is 14\n",
      "The temperature in Winter is 9\n"
     ]
    }
   ],
   "source": [
    "for i,temp in enumerate(temp_paris):\n",
    "    print(f\"The temperature in {seasons[i]} is {temp}\")"
   ]
  },
  {
   "cell_type": "markdown",
   "id": "1d238e6d",
   "metadata": {},
   "source": [
    "NB: `enumerate()` returns two values. The fact that we assign them to two variables directly, instead of a list with two elements, is called *unpacking*. It can be performed with any iterable element: `a, b = (1,2)` works for example, and we will get `a=1` and `b=2`."
   ]
  },
  {
   "cell_type": "markdown",
   "id": "eabc896f",
   "metadata": {},
   "source": [
    "**Exercise**: *Make a for loop on your dictionary of three cities and print their names.*"
   ]
  },
  {
   "cell_type": "code",
   "execution_count": 13,
   "id": "59b3d596",
   "metadata": {},
   "outputs": [],
   "source": []
  },
  {
   "cell_type": "markdown",
   "id": "ffd12ead",
   "metadata": {},
   "source": [
    "## List comprehensions\n",
    "\n",
    "Often, we iterate over an object to extract some of its elements, but instead of just printing them we would like to store them in another list. For example to create a new with only the temperatures between 10 and 20 degrees above, with a `for` loop, we would need"
   ]
  },
  {
   "cell_type": "code",
   "execution_count": 14,
   "id": "719b9e1c",
   "metadata": {},
   "outputs": [
    {
     "name": "stdout",
     "output_type": "stream",
     "text": [
      "[15, 14]\n"
     ]
    }
   ],
   "source": [
    "# initialise an empty list\n",
    "mild_temp = []\n",
    "# iterate over the temperatures\n",
    "for t in temp_paris:\n",
    "    if (t > 10) & (t < 20):\n",
    "        mild_temp.append(t)\n",
    "print(mild_temp)"
   ]
  },
  {
   "cell_type": "markdown",
   "id": "a2f65750",
   "metadata": {},
   "source": [
    "Instead, we can use a very elegant construction in Python called 'list comprehensions'"
   ]
  },
  {
   "cell_type": "code",
   "execution_count": 15,
   "id": "75e76b96",
   "metadata": {},
   "outputs": [
    {
     "name": "stdout",
     "output_type": "stream",
     "text": [
      "[15, 14]\n"
     ]
    }
   ],
   "source": [
    "mild_temp = [t for t in temp_paris if (t > 10) & (t < 20)]\n",
    "print(mild_temp)"
   ]
  },
  {
   "cell_type": "markdown",
   "id": "74e7a35a",
   "metadata": {},
   "source": [
    "NB: The `if` part is not mandatory; the simple form `[cat for cat in my_cats]` also works."
   ]
  },
  {
   "cell_type": "markdown",
   "id": "1ddabb0c",
   "metadata": {},
   "source": [
    "**Exercise**: *Use a list comprehension to build a list of the latitudes of the three cities in the dictionary you created above.*"
   ]
  },
  {
   "cell_type": "code",
   "execution_count": 16,
   "id": "00e9f77c",
   "metadata": {},
   "outputs": [],
   "source": []
  },
  {
   "cell_type": "markdown",
   "id": "6fb1fd7d",
   "metadata": {
    "jp-MarkdownHeadingCollapsed": true,
    "tags": []
   },
   "source": [
    "# Arrays with Numpy"
   ]
  },
  {
   "cell_type": "markdown",
   "id": "1771b135",
   "metadata": {},
   "source": [
    "## Creating arrays\n",
    "\n",
    "To work with n-dimensional data we need to go beyond the capacities of simple lists. `numpy` comes to the rescue with the `ndarray` type. Multidimensional arrays can be defined from lists of lists (of lists, of...). Their dimension is given by the `.shape` attribute (NB: no parentheses)."
   ]
  },
  {
   "cell_type": "code",
   "execution_count": 17,
   "id": "21220669",
   "metadata": {},
   "outputs": [
    {
     "name": "stdout",
     "output_type": "stream",
     "text": [
      "[[1 2 3]\n",
      " [4 5 6]]\n",
      "<class 'numpy.ndarray'>\n",
      "(2, 3)\n",
      "[[['a' 'b' 'c']\n",
      "  ['d' 'e' 'f']]\n",
      "\n",
      " [['a' 'b' 'c']\n",
      "  ['d' 'e' 'f']]\n",
      "\n",
      " [['a' 'b' 'c']\n",
      "  ['d' 'e' 'f']]]\n",
      "(3, 2, 3)\n"
     ]
    }
   ],
   "source": [
    "import numpy as np\n",
    "# NB: since we will be using numpy a lot, we define a shortcut for it\n",
    "\n",
    "x = np.array([[1,2,3],[4,5,6]])\n",
    "print(x)\n",
    "print(type(x))\n",
    "print(x.shape)\n",
    "\n",
    "x = np.array([ [['a','b','c'],['d','e','f']], [['a','b','c'],['d','e','f']], [['a','b','c'],['d','e','f']] ])\n",
    "print(x)\n",
    "print(x.shape)"
   ]
  },
  {
   "cell_type": "markdown",
   "id": "7788d844",
   "metadata": {},
   "source": [
    "Special arrays can be defined with functions"
   ]
  },
  {
   "cell_type": "code",
   "execution_count": 18,
   "id": "ca5c3f80",
   "metadata": {},
   "outputs": [
    {
     "name": "stdout",
     "output_type": "stream",
     "text": [
      "[1 2 3 4]\n",
      "[[0. 0. 0.]\n",
      " [0. 0. 0.]]\n",
      "[[1. 1. 1.]\n",
      " [1. 1. 1.]]\n",
      "[[0.2607458  0.08285906 0.27226531]\n",
      " [0.11765302 0.36768715 0.30230172]]\n"
     ]
    }
   ],
   "source": [
    "print(np.arange(1, 5)) # NB: as range, this stops *before* the last value\n",
    "print(np.zeros([2,3]))\n",
    "print(np.ones([2,3]))\n",
    "print(np.random.random([2,3]))"
   ]
  },
  {
   "cell_type": "markdown",
   "id": "036877c1",
   "metadata": {},
   "source": [
    "## Subseting and slicing arrays\n",
    "\n",
    "The arrays are subsetted with `[` also, but using one index in each dimension. The character `:` can be used to select slices of arrays (ranges of indexes)."
   ]
  },
  {
   "cell_type": "code",
   "execution_count": 19,
   "id": "dbf4ce23",
   "metadata": {},
   "outputs": [
    {
     "name": "stdout",
     "output_type": "stream",
     "text": [
      "[[1 2 3]\n",
      " [4 5 6]]\n",
      "4\n",
      "[1 2]\n",
      "[2 3]\n",
      "[4 5 6]\n",
      "[3 6]\n"
     ]
    }
   ],
   "source": [
    "x = np.array([[1,2,3],[4,5,6]])\n",
    "print(x)\n",
    "print(x[1,0])\n",
    "\n",
    "print(x[0,0:2])\n",
    "# NB: the range stops before the last element provided = here it covers 0 and 1, not 2.\n",
    "\n",
    "# not specifying a limit of the range means selecting everything on that side\n",
    "print(x[0,1:])\n",
    "\n",
    "# therefore, to select a full column or row, omit both limits of the range\n",
    "print(x[1,:])\n",
    "print(x[:,2])"
   ]
  },
  {
   "cell_type": "markdown",
   "id": "47a477a6",
   "metadata": {},
   "source": [
    "The `[` operator must be understood as creating a viewing window into the memory space where the array is stored, not as extracting the values. To extract values, use `.copy()`."
   ]
  },
  {
   "cell_type": "code",
   "execution_count": 20,
   "id": "f294a42b",
   "metadata": {},
   "outputs": [
    {
     "name": "stdout",
     "output_type": "stream",
     "text": [
      "[[1 2 3]\n",
      " [4 5 6]]\n",
      "[[10  2  3]\n",
      " [ 4  5  6]]\n"
     ]
    }
   ],
   "source": [
    "x = np.array([[1,2,3],[4,5,6]])\n",
    "# you expect to be able to do\n",
    "print(x)\n",
    "x[0,0] = 10\n",
    "print(x)"
   ]
  },
  {
   "cell_type": "code",
   "execution_count": 21,
   "id": "2e7175fc",
   "metadata": {},
   "outputs": [
    {
     "name": "stdout",
     "output_type": "stream",
     "text": [
      "[[10  2]\n",
      " [ 4  5]]\n",
      "[[20  2]\n",
      " [ 4  5]]\n",
      "[[20  2  3]\n",
      " [ 4  5  6]]\n"
     ]
    }
   ],
   "source": [
    "# but that also means this\n",
    "x2 = x[:,:2]\n",
    "print(x2)\n",
    "x2[0,0] = 20\n",
    "print(x2)\n",
    "print(x)"
   ]
  },
  {
   "cell_type": "code",
   "execution_count": 22,
   "id": "f393aaa3",
   "metadata": {},
   "outputs": [
    {
     "name": "stdout",
     "output_type": "stream",
     "text": [
      "[[20  2]\n",
      " [ 4  5]]\n",
      "[[30  2]\n",
      " [ 4  5]]\n",
      "[[20  2  3]\n",
      " [ 4  5  6]]\n"
     ]
    }
   ],
   "source": [
    "# to make an independent copy\n",
    "x3 = x[:,:2].copy()\n",
    "print(x3)\n",
    "x3[0,0] = 30\n",
    "print(x3)\n",
    "print(x)"
   ]
  },
  {
   "cell_type": "markdown",
   "id": "efee57c0",
   "metadata": {},
   "source": [
    "**Exercise:** *Given the array*\n",
    "```\n",
    "x = np.array([[1,2,3],[4,5,6]])\n",
    "```\n",
    "*extract*\n",
    "- *the element at row 1, column 2*\n",
    "- *the second row*\n",
    "- *the second and third columns*"
   ]
  },
  {
   "cell_type": "code",
   "execution_count": 23,
   "id": "17f1e4dd",
   "metadata": {},
   "outputs": [],
   "source": []
  },
  {
   "cell_type": "markdown",
   "id": "1576d50e",
   "metadata": {},
   "source": [
    "## Computing with arrays\n",
    "\n",
    "Computing with a list has to be done element by element. For example, the following code would fail\n",
    "```\n",
    "x = [1,2,3]\n",
    "x + 1\n",
    "```\n",
    "Instead one has to do"
   ]
  },
  {
   "cell_type": "code",
   "execution_count": 24,
   "id": "009697d5",
   "metadata": {},
   "outputs": [
    {
     "data": {
      "text/plain": [
       "[2, 3, 4]"
      ]
     },
     "execution_count": 24,
     "metadata": {},
     "output_type": "execute_result"
    }
   ],
   "source": [
    "x = [1,2,3]\n",
    "[e + 1 for e in x]"
   ]
  },
  {
   "cell_type": "markdown",
   "id": "604b88e8",
   "metadata": {},
   "source": [
    "Computing with numpy arrays is made easy thanks to *broadcasting*:"
   ]
  },
  {
   "cell_type": "code",
   "execution_count": 25,
   "id": "c4652871",
   "metadata": {},
   "outputs": [
    {
     "name": "stdout",
     "output_type": "stream",
     "text": [
      "[2 3 4]\n",
      "[3 6 9]\n",
      "[1 4 9]\n"
     ]
    }
   ],
   "source": [
    "x = np.array([1,2,3])\n",
    "print(x + 1)\n",
    "print(x * 3)\n",
    "print(x ** 2) # exponent"
   ]
  },
  {
   "cell_type": "code",
   "execution_count": 26,
   "id": "841c2e3e",
   "metadata": {},
   "outputs": [
    {
     "name": "stdout",
     "output_type": "stream",
     "text": [
      "[False False  True]\n"
     ]
    }
   ],
   "source": [
    "# this also works with logical operators!\n",
    "print(x > 2)"
   ]
  },
  {
   "cell_type": "code",
   "execution_count": 27,
   "id": "4c1b12ad",
   "metadata": {},
   "outputs": [
    {
     "data": {
      "text/plain": [
       "array([[11, 22],\n",
       "       [13, 24]])"
      ]
     },
     "execution_count": 27,
     "metadata": {},
     "output_type": "execute_result"
    }
   ],
   "source": [
    "# the smaller array is automatically \"broadcasted\" to match the shape of the larger one\n",
    "x1 = np.array([[1,2],[3,4]])\n",
    "x2 = np.array([10,20])\n",
    "x1 + x2"
   ]
  },
  {
   "cell_type": "markdown",
   "id": "75f49be7",
   "metadata": {},
   "source": [
    "And numpy universal functions (or *ufuncs*) applied to arrays (or lists) also work on per element"
   ]
  },
  {
   "cell_type": "code",
   "execution_count": 28,
   "id": "07f6823c",
   "metadata": {},
   "outputs": [
    {
     "name": "stdout",
     "output_type": "stream",
     "text": [
      "abs(x) =  [1 2 3]\n",
      "log(x) =  [0.         0.69314718 1.09861229]\n",
      "log(x+1) =  [0.69314718 1.09861229 1.38629436]\n",
      "exp(x) =  [ 2.71828183  7.3890561  20.08553692]\n"
     ]
    }
   ],
   "source": [
    "x = np.array([-1, 2, 3])\n",
    "print('abs(x) = ', np.abs(x))\n",
    "\n",
    "x = np.array([1, 2, 3])\n",
    "print('log(x) = ', np.log(x))\n",
    "print('log(x+1) = ', np.log1p(x))\n",
    "print('exp(x) = ', np.exp(x))"
   ]
  },
  {
   "cell_type": "markdown",
   "id": "4f299836",
   "metadata": {},
   "source": [
    "NB: actually, the mathematical operators (`+`, `-`, etc.) are shortcuts for `ufuncs` (`np.add()`, `np.subtract()`, etc.)"
   ]
  },
  {
   "cell_type": "markdown",
   "id": "cf056f35",
   "metadata": {},
   "source": [
    "Numpy also has all the usual summary mathematical functions"
   ]
  },
  {
   "cell_type": "code",
   "execution_count": 29,
   "id": "e93ef696",
   "metadata": {},
   "outputs": [
    {
     "name": "stdout",
     "output_type": "stream",
     "text": [
      "min =  2.1\n",
      "max =  14.6\n",
      "index of min =  1\n",
      "round =  [11.  2. 15.]\n",
      "round down =  [10.  2. 14.]\n",
      "round up =  [11.  3. 15.]\n"
     ]
    }
   ],
   "source": [
    "x = np.array([10.7, 2.1, 14.6])\n",
    "print('min = ', np.min(x))\n",
    "print('max = ', np.max(x))\n",
    "print('index of min = ', np.argmin(x))\n",
    "print('round = ', np.round(x))\n",
    "print('round down = ', np.floor(x))\n",
    "print('round up = ', np.ceil(x))"
   ]
  },
  {
   "cell_type": "code",
   "execution_count": 30,
   "id": "65e70217",
   "metadata": {},
   "outputs": [
    {
     "name": "stdout",
     "output_type": "stream",
     "text": [
      "[[1 2 3]\n",
      " [4 5 6]]\n",
      "3.5\n",
      "[2.5 3.5 4.5]\n",
      "[2. 5.]\n"
     ]
    }
   ],
   "source": [
    "# on multidimensional arrays, specifying 'axis'\n",
    "# performs the operation along the given axis\n",
    "x = np.array([[1,2,3],[4,5,6]])\n",
    "print(x)\n",
    "print(np.mean(x))         # all the array\n",
    "print(np.mean(x, axis=0)) # per column\n",
    "print(np.mean(x, axis=1)) # per row"
   ]
  },
  {
   "cell_type": "markdown",
   "id": "9d9bf862",
   "metadata": {},
   "source": [
    "**Exercise:** *Center (subtract the mean) and scale (divide by the standard deviation) each column of the array*\n",
    "```\n",
    "x = np.array([[1,2,3],[4,5,6]])\n",
    "```"
   ]
  },
  {
   "cell_type": "code",
   "execution_count": 31,
   "id": "39c82b75",
   "metadata": {},
   "outputs": [],
   "source": []
  },
  {
   "cell_type": "markdown",
   "id": "8db881cf",
   "metadata": {},
   "source": [
    "## Subseting arrays with arrays\n",
    "\n",
    "Instead of a single index or a slice, arrays can be indexes by other arrays."
   ]
  },
  {
   "cell_type": "code",
   "execution_count": 32,
   "id": "040916eb",
   "metadata": {},
   "outputs": [
    {
     "name": "stdout",
     "output_type": "stream",
     "text": [
      "[2.5 4. ]\n",
      "[2.5 4. ]\n"
     ]
    }
   ],
   "source": [
    "x = np.array([3.4, 2.5, 1.3, 4.0])\n",
    "\n",
    "# we can combine several results of single indexing\n",
    "print(np.array([x[1], x[3]]))\n",
    "# or use an array of indexes\n",
    "print(x[[1,3]])"
   ]
  },
  {
   "cell_type": "code",
   "execution_count": 33,
   "id": "59f7e240",
   "metadata": {},
   "outputs": [
    {
     "name": "stdout",
     "output_type": "stream",
     "text": [
      "[3.4 1.3]\n"
     ]
    }
   ],
   "source": [
    "# this also works with an array of booleans\n",
    "print(x[[True, False, True, False]])"
   ]
  },
  {
   "cell_type": "code",
   "execution_count": 34,
   "id": "86e49f74",
   "metadata": {},
   "outputs": [
    {
     "name": "stdout",
     "output_type": "stream",
     "text": [
      "[ True False False  True]\n",
      "[3.4 4. ]\n"
     ]
    }
   ],
   "source": [
    "# and we can therefore use \"logical indexing\" or \"masking\"\n",
    "print(x > 3)\n",
    "print(x[x > 3])"
   ]
  },
  {
   "cell_type": "markdown",
   "id": "92eb41d0",
   "metadata": {
    "jp-MarkdownHeadingCollapsed": true,
    "tags": []
   },
   "source": [
    "# DataFrames with Pandas"
   ]
  },
  {
   "cell_type": "markdown",
   "id": "1e0c5dc4",
   "metadata": {},
   "source": [
    "Another common type of data are spreadsheet-like tables. In Python, this is represented as a `DataFrame`.\n",
    "\n",
    "## Creating DataFrames\n",
    "\n",
    "The most natural way to create one is from a dictionary."
   ]
  },
  {
   "cell_type": "code",
   "execution_count": 35,
   "id": "db09e21f",
   "metadata": {},
   "outputs": [
    {
     "data": {
      "text/html": [
       "<div>\n",
       "<style scoped>\n",
       "    .dataframe tbody tr th:only-of-type {\n",
       "        vertical-align: middle;\n",
       "    }\n",
       "\n",
       "    .dataframe tbody tr th {\n",
       "        vertical-align: top;\n",
       "    }\n",
       "\n",
       "    .dataframe thead th {\n",
       "        text-align: right;\n",
       "    }\n",
       "</style>\n",
       "<table border=\"1\" class=\"dataframe\">\n",
       "  <thead>\n",
       "    <tr style=\"text-align: right;\">\n",
       "      <th></th>\n",
       "      <th>month</th>\n",
       "      <th>temp</th>\n",
       "    </tr>\n",
       "  </thead>\n",
       "  <tbody>\n",
       "    <tr>\n",
       "      <th>0</th>\n",
       "      <td>Jan</td>\n",
       "      <td>11</td>\n",
       "    </tr>\n",
       "    <tr>\n",
       "      <th>1</th>\n",
       "      <td>Feb</td>\n",
       "      <td>13</td>\n",
       "    </tr>\n",
       "    <tr>\n",
       "      <th>2</th>\n",
       "      <td>Mar</td>\n",
       "      <td>15</td>\n",
       "    </tr>\n",
       "  </tbody>\n",
       "</table>\n",
       "</div>"
      ],
      "text/plain": [
       "  month  temp\n",
       "0   Jan    11\n",
       "1   Feb    13\n",
       "2   Mar    15"
      ]
     },
     "execution_count": 35,
     "metadata": {},
     "output_type": "execute_result"
    }
   ],
   "source": [
    "import pandas as pd\n",
    "\n",
    "pd.DataFrame({'month':['Jan', 'Feb', 'Mar'], 'temp':[11, 13, 15]})"
   ]
  },
  {
   "cell_type": "markdown",
   "id": "2b75e266",
   "metadata": {},
   "source": [
    "But the data is usually read from a file, such as a `.csv` one."
   ]
  },
  {
   "cell_type": "code",
   "execution_count": 36,
   "id": "2523faa8",
   "metadata": {},
   "outputs": [
    {
     "data": {
      "text/html": [
       "<div>\n",
       "<style scoped>\n",
       "    .dataframe tbody tr th:only-of-type {\n",
       "        vertical-align: middle;\n",
       "    }\n",
       "\n",
       "    .dataframe tbody tr th {\n",
       "        vertical-align: top;\n",
       "    }\n",
       "\n",
       "    .dataframe thead th {\n",
       "        text-align: right;\n",
       "    }\n",
       "</style>\n",
       "<table border=\"1\" class=\"dataframe\">\n",
       "  <thead>\n",
       "    <tr style=\"text-align: right;\">\n",
       "      <th></th>\n",
       "      <th>station</th>\n",
       "      <th>year</th>\n",
       "      <th>press</th>\n",
       "      <th>tempC</th>\n",
       "    </tr>\n",
       "  </thead>\n",
       "  <tbody>\n",
       "    <tr>\n",
       "      <th>0</th>\n",
       "      <td>Toulouse</td>\n",
       "      <td>2010</td>\n",
       "      <td>1014.988136</td>\n",
       "      <td>13.015188</td>\n",
       "    </tr>\n",
       "    <tr>\n",
       "      <th>1</th>\n",
       "      <td>Toulouse</td>\n",
       "      <td>2011</td>\n",
       "      <td>1019.007981</td>\n",
       "      <td>14.792045</td>\n",
       "    </tr>\n",
       "    <tr>\n",
       "      <th>2</th>\n",
       "      <td>Toulouse</td>\n",
       "      <td>2012</td>\n",
       "      <td>1018.491608</td>\n",
       "      <td>13.964774</td>\n",
       "    </tr>\n",
       "    <tr>\n",
       "      <th>3</th>\n",
       "      <td>Toulouse</td>\n",
       "      <td>2013</td>\n",
       "      <td>1017.323449</td>\n",
       "      <td>13.365015</td>\n",
       "    </tr>\n",
       "    <tr>\n",
       "      <th>4</th>\n",
       "      <td>Toulouse</td>\n",
       "      <td>2014</td>\n",
       "      <td>1016.241835</td>\n",
       "      <td>14.654432</td>\n",
       "    </tr>\n",
       "  </tbody>\n",
       "</table>\n",
       "</div>"
      ],
      "text/plain": [
       "    station  year        press      tempC\n",
       "0  Toulouse  2010  1014.988136  13.015188\n",
       "1  Toulouse  2011  1019.007981  14.792045\n",
       "2  Toulouse  2012  1018.491608  13.964774\n",
       "3  Toulouse  2013  1017.323449  13.365015\n",
       "4  Toulouse  2014  1016.241835  14.654432"
      ]
     },
     "execution_count": 36,
     "metadata": {},
     "output_type": "execute_result"
    }
   ],
   "source": [
    "atm = pd.read_csv('meteo/atm.csv')\n",
    "# display the first few rows\n",
    "atm.head()"
   ]
  },
  {
   "cell_type": "code",
   "execution_count": 37,
   "id": "3db8b2cd",
   "metadata": {},
   "outputs": [
    {
     "data": {
      "text/html": [
       "<div>\n",
       "<style scoped>\n",
       "    .dataframe tbody tr th:only-of-type {\n",
       "        vertical-align: middle;\n",
       "    }\n",
       "\n",
       "    .dataframe tbody tr th {\n",
       "        vertical-align: top;\n",
       "    }\n",
       "\n",
       "    .dataframe thead th {\n",
       "        text-align: right;\n",
       "    }\n",
       "</style>\n",
       "<table border=\"1\" class=\"dataframe\">\n",
       "  <thead>\n",
       "    <tr style=\"text-align: right;\">\n",
       "      <th></th>\n",
       "      <th>year</th>\n",
       "      <th>press</th>\n",
       "      <th>tempC</th>\n",
       "    </tr>\n",
       "  </thead>\n",
       "  <tbody>\n",
       "    <tr>\n",
       "      <th>count</th>\n",
       "      <td>24.000000</td>\n",
       "      <td>18.000000</td>\n",
       "      <td>24.000000</td>\n",
       "    </tr>\n",
       "    <tr>\n",
       "      <th>mean</th>\n",
       "      <td>2012.500000</td>\n",
       "      <td>1016.348072</td>\n",
       "      <td>13.075904</td>\n",
       "    </tr>\n",
       "    <tr>\n",
       "      <th>std</th>\n",
       "      <td>1.744557</td>\n",
       "      <td>2.201765</td>\n",
       "      <td>2.422594</td>\n",
       "    </tr>\n",
       "    <tr>\n",
       "      <th>min</th>\n",
       "      <td>2010.000000</td>\n",
       "      <td>1012.067480</td>\n",
       "      <td>9.124088</td>\n",
       "    </tr>\n",
       "    <tr>\n",
       "      <th>25%</th>\n",
       "      <td>2011.000000</td>\n",
       "      <td>1014.879801</td>\n",
       "      <td>11.236252</td>\n",
       "    </tr>\n",
       "    <tr>\n",
       "      <th>50%</th>\n",
       "      <td>2012.500000</td>\n",
       "      <td>1016.641925</td>\n",
       "      <td>12.639666</td>\n",
       "    </tr>\n",
       "    <tr>\n",
       "      <th>75%</th>\n",
       "      <td>2014.000000</td>\n",
       "      <td>1017.762786</td>\n",
       "      <td>14.953328</td>\n",
       "    </tr>\n",
       "    <tr>\n",
       "      <th>max</th>\n",
       "      <td>2015.000000</td>\n",
       "      <td>1020.340733</td>\n",
       "      <td>16.798935</td>\n",
       "    </tr>\n",
       "  </tbody>\n",
       "</table>\n",
       "</div>"
      ],
      "text/plain": [
       "              year        press      tempC\n",
       "count    24.000000    18.000000  24.000000\n",
       "mean   2012.500000  1016.348072  13.075904\n",
       "std       1.744557     2.201765   2.422594\n",
       "min    2010.000000  1012.067480   9.124088\n",
       "25%    2011.000000  1014.879801  11.236252\n",
       "50%    2012.500000  1016.641925  12.639666\n",
       "75%    2014.000000  1017.762786  14.953328\n",
       "max    2015.000000  1020.340733  16.798935"
      ]
     },
     "execution_count": 37,
     "metadata": {},
     "output_type": "execute_result"
    }
   ],
   "source": [
    "# display summary statistics of the content of each column\n",
    "atm.describe()\n",
    "# we can notice that `press` as 18 values while `year` and `tempC` have 24\n",
    "# => some pressure values are missing"
   ]
  },
  {
   "cell_type": "markdown",
   "id": "005d97bf",
   "metadata": {},
   "source": [
    "**Exercise:** *Read and inspect the content of the 'rain.csv' file.*"
   ]
  },
  {
   "cell_type": "code",
   "execution_count": 38,
   "id": "f748f82b",
   "metadata": {},
   "outputs": [],
   "source": []
  },
  {
   "cell_type": "markdown",
   "id": "97fb7b1d",
   "metadata": {},
   "source": [
    "## Subseting DataFrames\n",
    "\n",
    "Like arrays, DataFrames can be subseted using numerical indexes, using the `.iloc` property"
   ]
  },
  {
   "cell_type": "code",
   "execution_count": 39,
   "id": "aeb3b055",
   "metadata": {},
   "outputs": [
    {
     "data": {
      "text/plain": [
       "2010"
      ]
     },
     "execution_count": 39,
     "metadata": {},
     "output_type": "execute_result"
    }
   ],
   "source": [
    "# single value\n",
    "atm.iloc[0,1]"
   ]
  },
  {
   "cell_type": "code",
   "execution_count": 40,
   "id": "8619b49d",
   "metadata": {},
   "outputs": [
    {
     "data": {
      "text/html": [
       "<div>\n",
       "<style scoped>\n",
       "    .dataframe tbody tr th:only-of-type {\n",
       "        vertical-align: middle;\n",
       "    }\n",
       "\n",
       "    .dataframe tbody tr th {\n",
       "        vertical-align: top;\n",
       "    }\n",
       "\n",
       "    .dataframe thead th {\n",
       "        text-align: right;\n",
       "    }\n",
       "</style>\n",
       "<table border=\"1\" class=\"dataframe\">\n",
       "  <thead>\n",
       "    <tr style=\"text-align: right;\">\n",
       "      <th></th>\n",
       "      <th>station</th>\n",
       "      <th>year</th>\n",
       "    </tr>\n",
       "  </thead>\n",
       "  <tbody>\n",
       "    <tr>\n",
       "      <th>0</th>\n",
       "      <td>Toulouse</td>\n",
       "      <td>2010</td>\n",
       "    </tr>\n",
       "    <tr>\n",
       "      <th>1</th>\n",
       "      <td>Toulouse</td>\n",
       "      <td>2011</td>\n",
       "    </tr>\n",
       "    <tr>\n",
       "      <th>2</th>\n",
       "      <td>Toulouse</td>\n",
       "      <td>2012</td>\n",
       "    </tr>\n",
       "    <tr>\n",
       "      <th>3</th>\n",
       "      <td>Toulouse</td>\n",
       "      <td>2013</td>\n",
       "    </tr>\n",
       "    <tr>\n",
       "      <th>4</th>\n",
       "      <td>Toulouse</td>\n",
       "      <td>2014</td>\n",
       "    </tr>\n",
       "  </tbody>\n",
       "</table>\n",
       "</div>"
      ],
      "text/plain": [
       "    station  year\n",
       "0  Toulouse  2010\n",
       "1  Toulouse  2011\n",
       "2  Toulouse  2012\n",
       "3  Toulouse  2013\n",
       "4  Toulouse  2014"
      ]
     },
     "execution_count": 40,
     "metadata": {},
     "output_type": "execute_result"
    }
   ],
   "source": [
    "# subset DataFrame (first 5 rows, first 2 columns)\n",
    "atm.iloc[:5,:2]"
   ]
  },
  {
   "cell_type": "code",
   "execution_count": 41,
   "id": "78f36138",
   "metadata": {},
   "outputs": [
    {
     "data": {
      "text/plain": [
       "0     2010\n",
       "1     2011\n",
       "2     2012\n",
       "3     2013\n",
       "4     2014\n",
       "5     2015\n",
       "6     2010\n",
       "7     2011\n",
       "8     2012\n",
       "9     2013\n",
       "10    2014\n",
       "11    2015\n",
       "12    2010\n",
       "13    2011\n",
       "14    2012\n",
       "15    2013\n",
       "16    2014\n",
       "17    2015\n",
       "18    2010\n",
       "19    2011\n",
       "20    2012\n",
       "21    2013\n",
       "22    2014\n",
       "23    2015\n",
       "Name: year, dtype: int64"
      ]
     },
     "execution_count": 41,
     "metadata": {},
     "output_type": "execute_result"
    }
   ],
   "source": [
    "# one column\n",
    "atm.iloc[:,1]"
   ]
  },
  {
   "cell_type": "code",
   "execution_count": 42,
   "id": "c054fedf",
   "metadata": {},
   "outputs": [
    {
     "data": {
      "text/plain": [
       "station    Toulouse\n",
       "year           2010\n",
       "press       1014.99\n",
       "tempC       13.0152\n",
       "Name: 0, dtype: object"
      ]
     },
     "execution_count": 42,
     "metadata": {},
     "output_type": "execute_result"
    }
   ],
   "source": [
    "# one row\n",
    "atm.iloc[0,:]"
   ]
  },
  {
   "cell_type": "markdown",
   "id": "798a14a2",
   "metadata": {},
   "source": [
    "Note that the results of the last two selections are named and are of type \"Series\""
   ]
  },
  {
   "cell_type": "code",
   "execution_count": 43,
   "id": "8ded18c3",
   "metadata": {},
   "outputs": [
    {
     "name": "stdout",
     "output_type": "stream",
     "text": [
      "<class 'pandas.core.series.Series'>\n"
     ]
    }
   ],
   "source": [
    "print(type(atm.iloc[:,1]))"
   ]
  },
  {
   "cell_type": "markdown",
   "id": "e468dc79",
   "metadata": {},
   "source": [
    "But the more natural way is to use names, in particular for columns. This is done with the `.loc` property."
   ]
  },
  {
   "cell_type": "code",
   "execution_count": 44,
   "id": "67b97111",
   "metadata": {},
   "outputs": [
    {
     "data": {
      "text/plain": [
       "0     2010\n",
       "1     2011\n",
       "2     2012\n",
       "3     2013\n",
       "4     2014\n",
       "5     2015\n",
       "6     2010\n",
       "7     2011\n",
       "8     2012\n",
       "9     2013\n",
       "10    2014\n",
       "11    2015\n",
       "12    2010\n",
       "13    2011\n",
       "14    2012\n",
       "15    2013\n",
       "16    2014\n",
       "17    2015\n",
       "18    2010\n",
       "19    2011\n",
       "20    2012\n",
       "21    2013\n",
       "22    2014\n",
       "23    2015\n",
       "Name: year, dtype: int64"
      ]
     },
     "execution_count": 44,
     "metadata": {},
     "output_type": "execute_result"
    }
   ],
   "source": [
    "atm.loc[:,'year']"
   ]
  },
  {
   "cell_type": "code",
   "execution_count": 45,
   "id": "67ef620c",
   "metadata": {},
   "outputs": [
    {
     "data": {
      "text/html": [
       "<div>\n",
       "<style scoped>\n",
       "    .dataframe tbody tr th:only-of-type {\n",
       "        vertical-align: middle;\n",
       "    }\n",
       "\n",
       "    .dataframe tbody tr th {\n",
       "        vertical-align: top;\n",
       "    }\n",
       "\n",
       "    .dataframe thead th {\n",
       "        text-align: right;\n",
       "    }\n",
       "</style>\n",
       "<table border=\"1\" class=\"dataframe\">\n",
       "  <thead>\n",
       "    <tr style=\"text-align: right;\">\n",
       "      <th></th>\n",
       "      <th>station</th>\n",
       "      <th>year</th>\n",
       "    </tr>\n",
       "  </thead>\n",
       "  <tbody>\n",
       "    <tr>\n",
       "      <th>0</th>\n",
       "      <td>Toulouse</td>\n",
       "      <td>2010</td>\n",
       "    </tr>\n",
       "    <tr>\n",
       "      <th>1</th>\n",
       "      <td>Toulouse</td>\n",
       "      <td>2011</td>\n",
       "    </tr>\n",
       "    <tr>\n",
       "      <th>2</th>\n",
       "      <td>Toulouse</td>\n",
       "      <td>2012</td>\n",
       "    </tr>\n",
       "    <tr>\n",
       "      <th>3</th>\n",
       "      <td>Toulouse</td>\n",
       "      <td>2013</td>\n",
       "    </tr>\n",
       "    <tr>\n",
       "      <th>4</th>\n",
       "      <td>Toulouse</td>\n",
       "      <td>2014</td>\n",
       "    </tr>\n",
       "    <tr>\n",
       "      <th>5</th>\n",
       "      <td>Toulouse</td>\n",
       "      <td>2015</td>\n",
       "    </tr>\n",
       "    <tr>\n",
       "      <th>6</th>\n",
       "      <td>Nice</td>\n",
       "      <td>2010</td>\n",
       "    </tr>\n",
       "    <tr>\n",
       "      <th>7</th>\n",
       "      <td>Nice</td>\n",
       "      <td>2011</td>\n",
       "    </tr>\n",
       "    <tr>\n",
       "      <th>8</th>\n",
       "      <td>Nice</td>\n",
       "      <td>2012</td>\n",
       "    </tr>\n",
       "    <tr>\n",
       "      <th>9</th>\n",
       "      <td>Nice</td>\n",
       "      <td>2013</td>\n",
       "    </tr>\n",
       "    <tr>\n",
       "      <th>10</th>\n",
       "      <td>Nice</td>\n",
       "      <td>2014</td>\n",
       "    </tr>\n",
       "    <tr>\n",
       "      <th>11</th>\n",
       "      <td>Nice</td>\n",
       "      <td>2015</td>\n",
       "    </tr>\n",
       "    <tr>\n",
       "      <th>12</th>\n",
       "      <td>Nancy</td>\n",
       "      <td>2010</td>\n",
       "    </tr>\n",
       "    <tr>\n",
       "      <th>13</th>\n",
       "      <td>Nancy</td>\n",
       "      <td>2011</td>\n",
       "    </tr>\n",
       "    <tr>\n",
       "      <th>14</th>\n",
       "      <td>Nancy</td>\n",
       "      <td>2012</td>\n",
       "    </tr>\n",
       "    <tr>\n",
       "      <th>15</th>\n",
       "      <td>Nancy</td>\n",
       "      <td>2013</td>\n",
       "    </tr>\n",
       "    <tr>\n",
       "      <th>16</th>\n",
       "      <td>Nancy</td>\n",
       "      <td>2014</td>\n",
       "    </tr>\n",
       "    <tr>\n",
       "      <th>17</th>\n",
       "      <td>Nancy</td>\n",
       "      <td>2015</td>\n",
       "    </tr>\n",
       "    <tr>\n",
       "      <th>18</th>\n",
       "      <td>Brest</td>\n",
       "      <td>2010</td>\n",
       "    </tr>\n",
       "    <tr>\n",
       "      <th>19</th>\n",
       "      <td>Brest</td>\n",
       "      <td>2011</td>\n",
       "    </tr>\n",
       "    <tr>\n",
       "      <th>20</th>\n",
       "      <td>Brest</td>\n",
       "      <td>2012</td>\n",
       "    </tr>\n",
       "    <tr>\n",
       "      <th>21</th>\n",
       "      <td>Brest</td>\n",
       "      <td>2013</td>\n",
       "    </tr>\n",
       "    <tr>\n",
       "      <th>22</th>\n",
       "      <td>Brest</td>\n",
       "      <td>2014</td>\n",
       "    </tr>\n",
       "    <tr>\n",
       "      <th>23</th>\n",
       "      <td>Brest</td>\n",
       "      <td>2015</td>\n",
       "    </tr>\n",
       "  </tbody>\n",
       "</table>\n",
       "</div>"
      ],
      "text/plain": [
       "     station  year\n",
       "0   Toulouse  2010\n",
       "1   Toulouse  2011\n",
       "2   Toulouse  2012\n",
       "3   Toulouse  2013\n",
       "4   Toulouse  2014\n",
       "5   Toulouse  2015\n",
       "6       Nice  2010\n",
       "7       Nice  2011\n",
       "8       Nice  2012\n",
       "9       Nice  2013\n",
       "10      Nice  2014\n",
       "11      Nice  2015\n",
       "12     Nancy  2010\n",
       "13     Nancy  2011\n",
       "14     Nancy  2012\n",
       "15     Nancy  2013\n",
       "16     Nancy  2014\n",
       "17     Nancy  2015\n",
       "18     Brest  2010\n",
       "19     Brest  2011\n",
       "20     Brest  2012\n",
       "21     Brest  2013\n",
       "22     Brest  2014\n",
       "23     Brest  2015"
      ]
     },
     "execution_count": 45,
     "metadata": {},
     "output_type": "execute_result"
    }
   ],
   "source": [
    "# but we can still use ranges\n",
    "atm.loc[:,'station':'year']"
   ]
  },
  {
   "cell_type": "code",
   "execution_count": 46,
   "id": "70438a84",
   "metadata": {},
   "outputs": [
    {
     "name": "stdout",
     "output_type": "stream",
     "text": [
      "    station  year\n",
      "0  Toulouse  2010\n",
      "1  Toulouse  2011\n",
      "2  Toulouse  2012\n",
      "3  Toulouse  2013\n",
      "4  Toulouse  2014\n",
      "    station  year        press\n",
      "0  Toulouse  2010  1014.988136\n",
      "1  Toulouse  2011  1019.007981\n",
      "2  Toulouse  2012  1018.491608\n",
      "3  Toulouse  2013  1017.323449\n",
      "4  Toulouse  2014  1016.241835\n",
      "5  Toulouse  2015  1020.340733\n"
     ]
    }
   ],
   "source": [
    "# with name-based indexing, the subset *includes* the bounds of selection\n",
    "# compare the two outputs below\n",
    "print(atm.iloc[:5,0:2])\n",
    "print(atm.loc[:5,'station':'press'])"
   ]
  },
  {
   "cell_type": "code",
   "execution_count": 47,
   "id": "5d91f6d6",
   "metadata": {},
   "outputs": [
    {
     "name": "stdout",
     "output_type": "stream",
     "text": [
      "0     2010\n",
      "1     2011\n",
      "2     2012\n",
      "3     2013\n",
      "4     2014\n",
      "5     2015\n",
      "6     2010\n",
      "7     2011\n",
      "8     2012\n",
      "9     2013\n",
      "10    2014\n",
      "11    2015\n",
      "12    2010\n",
      "13    2011\n",
      "14    2012\n",
      "15    2013\n",
      "16    2014\n",
      "17    2015\n",
      "18    2010\n",
      "19    2011\n",
      "20    2012\n",
      "21    2013\n",
      "22    2014\n",
      "23    2015\n",
      "Name: year, dtype: int64\n",
      "0     2010\n",
      "1     2011\n",
      "2     2012\n",
      "3     2013\n",
      "4     2014\n",
      "5     2015\n",
      "6     2010\n",
      "7     2011\n",
      "8     2012\n",
      "9     2013\n",
      "10    2014\n",
      "11    2015\n",
      "12    2010\n",
      "13    2011\n",
      "14    2012\n",
      "15    2013\n",
      "16    2014\n",
      "17    2015\n",
      "18    2010\n",
      "19    2011\n",
      "20    2012\n",
      "21    2013\n",
      "22    2014\n",
      "23    2015\n",
      "Name: year, dtype: int64\n"
     ]
    }
   ],
   "source": [
    "# since selecting one full column (i.e. one Series) is frequent, there are shortcuts\n",
    "print(atm['year'])\n",
    "# or even (if the column name does not contain special characters)\n",
    "print(atm.year)"
   ]
  },
  {
   "cell_type": "code",
   "execution_count": 48,
   "id": "bf84c156",
   "metadata": {},
   "outputs": [
    {
     "data": {
      "text/html": [
       "<div>\n",
       "<style scoped>\n",
       "    .dataframe tbody tr th:only-of-type {\n",
       "        vertical-align: middle;\n",
       "    }\n",
       "\n",
       "    .dataframe tbody tr th {\n",
       "        vertical-align: top;\n",
       "    }\n",
       "\n",
       "    .dataframe thead th {\n",
       "        text-align: right;\n",
       "    }\n",
       "</style>\n",
       "<table border=\"1\" class=\"dataframe\">\n",
       "  <thead>\n",
       "    <tr style=\"text-align: right;\">\n",
       "      <th></th>\n",
       "      <th>station</th>\n",
       "      <th>year</th>\n",
       "      <th>press</th>\n",
       "      <th>tempC</th>\n",
       "    </tr>\n",
       "  </thead>\n",
       "  <tbody>\n",
       "    <tr>\n",
       "      <th>4</th>\n",
       "      <td>Toulouse</td>\n",
       "      <td>2014</td>\n",
       "      <td>1016.241835</td>\n",
       "      <td>14.654432</td>\n",
       "    </tr>\n",
       "    <tr>\n",
       "      <th>5</th>\n",
       "      <td>Toulouse</td>\n",
       "      <td>2015</td>\n",
       "      <td>1020.340733</td>\n",
       "      <td>14.574327</td>\n",
       "    </tr>\n",
       "    <tr>\n",
       "      <th>10</th>\n",
       "      <td>Nice</td>\n",
       "      <td>2014</td>\n",
       "      <td>1013.904799</td>\n",
       "      <td>16.698650</td>\n",
       "    </tr>\n",
       "    <tr>\n",
       "      <th>11</th>\n",
       "      <td>Nice</td>\n",
       "      <td>2015</td>\n",
       "      <td>1017.046069</td>\n",
       "      <td>16.798935</td>\n",
       "    </tr>\n",
       "    <tr>\n",
       "      <th>16</th>\n",
       "      <td>Nancy</td>\n",
       "      <td>2014</td>\n",
       "      <td>NaN</td>\n",
       "      <td>11.342480</td>\n",
       "    </tr>\n",
       "    <tr>\n",
       "      <th>17</th>\n",
       "      <td>Nancy</td>\n",
       "      <td>2015</td>\n",
       "      <td>NaN</td>\n",
       "      <td>11.123810</td>\n",
       "    </tr>\n",
       "    <tr>\n",
       "      <th>22</th>\n",
       "      <td>Brest</td>\n",
       "      <td>2014</td>\n",
       "      <td>1013.968528</td>\n",
       "      <td>12.264145</td>\n",
       "    </tr>\n",
       "    <tr>\n",
       "      <th>23</th>\n",
       "      <td>Brest</td>\n",
       "      <td>2015</td>\n",
       "      <td>1019.089641</td>\n",
       "      <td>11.961605</td>\n",
       "    </tr>\n",
       "  </tbody>\n",
       "</table>\n",
       "</div>"
      ],
      "text/plain": [
       "     station  year        press      tempC\n",
       "4   Toulouse  2014  1016.241835  14.654432\n",
       "5   Toulouse  2015  1020.340733  14.574327\n",
       "10      Nice  2014  1013.904799  16.698650\n",
       "11      Nice  2015  1017.046069  16.798935\n",
       "16     Nancy  2014          NaN  11.342480\n",
       "17     Nancy  2015          NaN  11.123810\n",
       "22     Brest  2014  1013.968528  12.264145\n",
       "23     Brest  2015  1019.089641  11.961605"
      ]
     },
     "execution_count": 48,
     "metadata": {},
     "output_type": "execute_result"
    }
   ],
   "source": [
    "# the .loc property also allows logical indexing (i.e. masking)\n",
    "atm.loc[atm['year'] >= 2014]\n",
    "# NB: we notice some of the missing values here"
   ]
  },
  {
   "cell_type": "markdown",
   "id": "d40871e9",
   "metadata": {},
   "source": [
    "**Exercise:** *In the rainfal data you just read above*\n",
    "- *select rows from the fifth to the tenth (both included, that makes 6 rows) and columns station and year;*\n",
    "- *select all rows where rainfall is higher than 1000;*\n",
    "- *select column 'cloud_cover'*"
   ]
  },
  {
   "cell_type": "code",
   "execution_count": 49,
   "id": "0effa459",
   "metadata": {},
   "outputs": [],
   "source": []
  },
  {
   "cell_type": "markdown",
   "id": "48e130c0",
   "metadata": {},
   "source": [
    "## Computing with DataFrames\n",
    "\n",
    "Pandas has functions operating on Series in a way similar to `numpy`'s `ufuncs`."
   ]
  },
  {
   "cell_type": "code",
   "execution_count": 50,
   "id": "bd2face0",
   "metadata": {},
   "outputs": [
    {
     "name": "stdout",
     "output_type": "stream",
     "text": [
      "temperature, average: 13.075903651467563\n",
      "temperature, std deviation: 2.4225938234990867\n",
      "all years in `atm`: [2010 2011 2012 2013 2014 2015]\n"
     ]
    }
   ],
   "source": [
    "print('temperature, average:', atm.tempC.mean())\n",
    "print('temperature, std deviation:', atm.tempC.std())\n",
    "print('all years in `atm`:', atm.year.unique())"
   ]
  },
  {
   "cell_type": "code",
   "execution_count": 51,
   "id": "70ebc39d",
   "metadata": {},
   "outputs": [
    {
     "data": {
      "text/plain": [
       "press    1016.348072\n",
       "tempC      13.075904\n",
       "dtype: float64"
      ]
     },
     "execution_count": 51,
     "metadata": {},
     "output_type": "execute_result"
    }
   ],
   "source": [
    "# it also runs on several Series\n",
    "atm.loc[:,'press':'tempC'].mean()"
   ]
  },
  {
   "cell_type": "code",
   "execution_count": 52,
   "id": "0fd6837c",
   "metadata": {},
   "outputs": [
    {
     "data": {
      "text/html": [
       "<div>\n",
       "<style scoped>\n",
       "    .dataframe tbody tr th:only-of-type {\n",
       "        vertical-align: middle;\n",
       "    }\n",
       "\n",
       "    .dataframe tbody tr th {\n",
       "        vertical-align: top;\n",
       "    }\n",
       "\n",
       "    .dataframe thead th {\n",
       "        text-align: right;\n",
       "    }\n",
       "</style>\n",
       "<table border=\"1\" class=\"dataframe\">\n",
       "  <thead>\n",
       "    <tr style=\"text-align: right;\">\n",
       "      <th></th>\n",
       "      <th>press</th>\n",
       "      <th>tempC</th>\n",
       "    </tr>\n",
       "  </thead>\n",
       "  <tbody>\n",
       "    <tr>\n",
       "      <th>0</th>\n",
       "      <td>101.498814</td>\n",
       "      <td>0.130152</td>\n",
       "    </tr>\n",
       "    <tr>\n",
       "      <th>1</th>\n",
       "      <td>101.900798</td>\n",
       "      <td>0.147920</td>\n",
       "    </tr>\n",
       "    <tr>\n",
       "      <th>2</th>\n",
       "      <td>101.849161</td>\n",
       "      <td>0.139648</td>\n",
       "    </tr>\n",
       "    <tr>\n",
       "      <th>3</th>\n",
       "      <td>101.732345</td>\n",
       "      <td>0.133650</td>\n",
       "    </tr>\n",
       "    <tr>\n",
       "      <th>4</th>\n",
       "      <td>101.624183</td>\n",
       "      <td>0.146544</td>\n",
       "    </tr>\n",
       "    <tr>\n",
       "      <th>5</th>\n",
       "      <td>102.034073</td>\n",
       "      <td>0.145743</td>\n",
       "    </tr>\n",
       "  </tbody>\n",
       "</table>\n",
       "</div>"
      ],
      "text/plain": [
       "        press     tempC\n",
       "0  101.498814  0.130152\n",
       "1  101.900798  0.147920\n",
       "2  101.849161  0.139648\n",
       "3  101.732345  0.133650\n",
       "4  101.624183  0.146544\n",
       "5  102.034073  0.145743"
      ]
     },
     "execution_count": 52,
     "metadata": {},
     "output_type": "execute_result"
    }
   ],
   "source": [
    "# like with numpy arrays, one can use 'axis'\n",
    "# on each row (axis=1), divide pressure by 10 and temperature by 100\n",
    "atm.loc[:5,'press':'tempC'].div([10,100], axis=1)"
   ]
  },
  {
   "cell_type": "code",
   "execution_count": 53,
   "id": "fd2b9a5d",
   "metadata": {},
   "outputs": [
    {
     "data": {
      "text/html": [
       "<div>\n",
       "<style scoped>\n",
       "    .dataframe tbody tr th:only-of-type {\n",
       "        vertical-align: middle;\n",
       "    }\n",
       "\n",
       "    .dataframe tbody tr th {\n",
       "        vertical-align: top;\n",
       "    }\n",
       "\n",
       "    .dataframe thead th {\n",
       "        text-align: right;\n",
       "    }\n",
       "</style>\n",
       "<table border=\"1\" class=\"dataframe\">\n",
       "  <thead>\n",
       "    <tr style=\"text-align: right;\">\n",
       "      <th></th>\n",
       "      <th>press</th>\n",
       "      <th>tempC</th>\n",
       "    </tr>\n",
       "  </thead>\n",
       "  <tbody>\n",
       "    <tr>\n",
       "      <th>0</th>\n",
       "      <td>-1.359936</td>\n",
       "      <td>-0.060716</td>\n",
       "    </tr>\n",
       "    <tr>\n",
       "      <th>1</th>\n",
       "      <td>2.659909</td>\n",
       "      <td>1.716141</td>\n",
       "    </tr>\n",
       "    <tr>\n",
       "      <th>2</th>\n",
       "      <td>2.143536</td>\n",
       "      <td>0.888870</td>\n",
       "    </tr>\n",
       "    <tr>\n",
       "      <th>3</th>\n",
       "      <td>0.975377</td>\n",
       "      <td>0.289111</td>\n",
       "    </tr>\n",
       "    <tr>\n",
       "      <th>4</th>\n",
       "      <td>-0.106238</td>\n",
       "      <td>1.578529</td>\n",
       "    </tr>\n",
       "    <tr>\n",
       "      <th>5</th>\n",
       "      <td>3.992661</td>\n",
       "      <td>1.498423</td>\n",
       "    </tr>\n",
       "  </tbody>\n",
       "</table>\n",
       "</div>"
      ],
      "text/plain": [
       "      press     tempC\n",
       "0 -1.359936 -0.060716\n",
       "1  2.659909  1.716141\n",
       "2  2.143536  0.888870\n",
       "3  0.975377  0.289111\n",
       "4 -0.106238  1.578529\n",
       "5  3.992661  1.498423"
      ]
     },
     "execution_count": 53,
     "metadata": {},
     "output_type": "execute_result"
    }
   ],
   "source": [
    "# use this to center values in each column around its mean\n",
    "col_means = atm.loc[:,'press':'tempC'].mean()\n",
    "atm.loc[:5,'press':'tempC'].subtract(col_means, axis=1)"
   ]
  },
  {
   "cell_type": "markdown",
   "id": "b50192da",
   "metadata": {},
   "source": [
    "**Exercise:** *Compute the minimum and maximum amounts of rainfall. Scale (divide by the standard deviation) the column `tempC`.*"
   ]
  },
  {
   "cell_type": "code",
   "execution_count": 54,
   "id": "6be92d30",
   "metadata": {},
   "outputs": [],
   "source": []
  },
  {
   "cell_type": "markdown",
   "id": "d8e497f9",
   "metadata": {},
   "source": [
    "## Combining DataFrames\n",
    "\n",
    "Data is often scattered across several files, like here the atmospheric and pluviometry data. We want to combine them in a single DataFrame."
   ]
  },
  {
   "cell_type": "code",
   "execution_count": 55,
   "id": "3cc53c72",
   "metadata": {},
   "outputs": [
    {
     "name": "stdout",
     "output_type": "stream",
     "text": [
      "(24, 4)\n",
      "(24, 4)\n"
     ]
    }
   ],
   "source": [
    "atm = pd.read_csv('meteo/atm.csv')\n",
    "rain = pd.read_csv('meteo/rain.csv')\n",
    "\n",
    "# the two DataFrames seem compatible in shape\n",
    "print(atm.shape)\n",
    "print(rain.shape)"
   ]
  },
  {
   "cell_type": "code",
   "execution_count": 56,
   "id": "fbfbd952",
   "metadata": {},
   "outputs": [
    {
     "name": "stdout",
     "output_type": "stream",
     "text": [
      "    station  year        press      tempC\n",
      "0  Toulouse  2010  1014.988136  13.015188\n",
      "1  Toulouse  2011  1019.007981  14.792045\n",
      "2  Toulouse  2012  1018.491608  13.964774\n",
      "3  Toulouse  2013  1017.323449  13.365015\n",
      "4  Toulouse  2014  1016.241835  14.654432\n",
      "  station  year  rainfall    cloud_cover\n",
      "0   Brest  2011     991.7  Stratocumulus\n",
      "1   Brest  2012    1350.1        Cumulus\n",
      "2   Brest  2013    1243.4  Stratocumulus\n",
      "3   Brest  2014    1376.9        Cumulus\n",
      "4   Brest  2015    1169.2  Stratocumulus\n"
     ]
    }
   ],
   "source": [
    "# but the content does not match\n",
    "print(atm.head())\n",
    "print(rain.head())"
   ]
  },
  {
   "cell_type": "code",
   "execution_count": 57,
   "id": "dec92678",
   "metadata": {},
   "outputs": [
    {
     "data": {
      "text/html": [
       "<div>\n",
       "<style scoped>\n",
       "    .dataframe tbody tr th:only-of-type {\n",
       "        vertical-align: middle;\n",
       "    }\n",
       "\n",
       "    .dataframe tbody tr th {\n",
       "        vertical-align: top;\n",
       "    }\n",
       "\n",
       "    .dataframe thead th {\n",
       "        text-align: right;\n",
       "    }\n",
       "</style>\n",
       "<table border=\"1\" class=\"dataframe\">\n",
       "  <thead>\n",
       "    <tr style=\"text-align: right;\">\n",
       "      <th></th>\n",
       "      <th>station</th>\n",
       "      <th>year</th>\n",
       "      <th>press</th>\n",
       "      <th>tempC</th>\n",
       "      <th>rainfall</th>\n",
       "      <th>cloud_cover</th>\n",
       "    </tr>\n",
       "  </thead>\n",
       "  <tbody>\n",
       "    <tr>\n",
       "      <th>0</th>\n",
       "      <td>Nice</td>\n",
       "      <td>2011</td>\n",
       "      <td>1016.912644</td>\n",
       "      <td>16.651938</td>\n",
       "      <td>703.8</td>\n",
       "      <td>Stratocumulus</td>\n",
       "    </tr>\n",
       "    <tr>\n",
       "      <th>1</th>\n",
       "      <td>Nice</td>\n",
       "      <td>2012</td>\n",
       "      <td>1015.064896</td>\n",
       "      <td>16.290988</td>\n",
       "      <td>789.4</td>\n",
       "      <td>Stratocumulus</td>\n",
       "    </tr>\n",
       "    <tr>\n",
       "      <th>2</th>\n",
       "      <td>Nice</td>\n",
       "      <td>2013</td>\n",
       "      <td>1013.709868</td>\n",
       "      <td>15.843195</td>\n",
       "      <td>984.2</td>\n",
       "      <td>Stratocumulus</td>\n",
       "    </tr>\n",
       "    <tr>\n",
       "      <th>3</th>\n",
       "      <td>Nice</td>\n",
       "      <td>2014</td>\n",
       "      <td>1013.904799</td>\n",
       "      <td>16.698650</td>\n",
       "      <td>1236.9</td>\n",
       "      <td>Stratocumulus</td>\n",
       "    </tr>\n",
       "    <tr>\n",
       "      <th>4</th>\n",
       "      <td>Nice</td>\n",
       "      <td>2015</td>\n",
       "      <td>1017.046069</td>\n",
       "      <td>16.798935</td>\n",
       "      <td>547.2</td>\n",
       "      <td>low clouds absent</td>\n",
       "    </tr>\n",
       "    <tr>\n",
       "      <th>5</th>\n",
       "      <td>Nancy</td>\n",
       "      <td>2011</td>\n",
       "      <td>NaN</td>\n",
       "      <td>10.911263</td>\n",
       "      <td>762.0</td>\n",
       "      <td>low clouds absent</td>\n",
       "    </tr>\n",
       "    <tr>\n",
       "      <th>6</th>\n",
       "      <td>Nancy</td>\n",
       "      <td>2012</td>\n",
       "      <td>NaN</td>\n",
       "      <td>10.207777</td>\n",
       "      <td>769.4</td>\n",
       "      <td>low clouds absent</td>\n",
       "    </tr>\n",
       "    <tr>\n",
       "      <th>7</th>\n",
       "      <td>Nancy</td>\n",
       "      <td>2013</td>\n",
       "      <td>NaN</td>\n",
       "      <td>9.610720</td>\n",
       "      <td>940.4</td>\n",
       "      <td>low clouds absent</td>\n",
       "    </tr>\n",
       "    <tr>\n",
       "      <th>8</th>\n",
       "      <td>Nancy</td>\n",
       "      <td>2014</td>\n",
       "      <td>NaN</td>\n",
       "      <td>11.342480</td>\n",
       "      <td>687.7</td>\n",
       "      <td>low clouds absent</td>\n",
       "    </tr>\n",
       "    <tr>\n",
       "      <th>9</th>\n",
       "      <td>Nancy</td>\n",
       "      <td>2015</td>\n",
       "      <td>NaN</td>\n",
       "      <td>11.123810</td>\n",
       "      <td>584.1</td>\n",
       "      <td>low clouds absent</td>\n",
       "    </tr>\n",
       "    <tr>\n",
       "      <th>10</th>\n",
       "      <td>Brest</td>\n",
       "      <td>2011</td>\n",
       "      <td>1017.909232</td>\n",
       "      <td>12.065489</td>\n",
       "      <td>991.7</td>\n",
       "      <td>Stratocumulus</td>\n",
       "    </tr>\n",
       "    <tr>\n",
       "      <th>11</th>\n",
       "      <td>Brest</td>\n",
       "      <td>2012</td>\n",
       "      <td>1016.983505</td>\n",
       "      <td>11.317973</td>\n",
       "      <td>1350.1</td>\n",
       "      <td>Cumulus</td>\n",
       "    </tr>\n",
       "    <tr>\n",
       "      <th>12</th>\n",
       "      <td>Brest</td>\n",
       "      <td>2013</td>\n",
       "      <td>1016.371207</td>\n",
       "      <td>11.273733</td>\n",
       "      <td>1243.4</td>\n",
       "      <td>Stratocumulus</td>\n",
       "    </tr>\n",
       "    <tr>\n",
       "      <th>13</th>\n",
       "      <td>Brest</td>\n",
       "      <td>2014</td>\n",
       "      <td>1013.968528</td>\n",
       "      <td>12.264145</td>\n",
       "      <td>1376.9</td>\n",
       "      <td>Cumulus</td>\n",
       "    </tr>\n",
       "    <tr>\n",
       "      <th>14</th>\n",
       "      <td>Brest</td>\n",
       "      <td>2015</td>\n",
       "      <td>1019.089641</td>\n",
       "      <td>11.961605</td>\n",
       "      <td>1169.2</td>\n",
       "      <td>Stratocumulus</td>\n",
       "    </tr>\n",
       "  </tbody>\n",
       "</table>\n",
       "</div>"
      ],
      "text/plain": [
       "   station  year        press      tempC  rainfall        cloud_cover\n",
       "0     Nice  2011  1016.912644  16.651938     703.8      Stratocumulus\n",
       "1     Nice  2012  1015.064896  16.290988     789.4      Stratocumulus\n",
       "2     Nice  2013  1013.709868  15.843195     984.2      Stratocumulus\n",
       "3     Nice  2014  1013.904799  16.698650    1236.9      Stratocumulus\n",
       "4     Nice  2015  1017.046069  16.798935     547.2  low clouds absent\n",
       "5    Nancy  2011          NaN  10.911263     762.0  low clouds absent\n",
       "6    Nancy  2012          NaN  10.207777     769.4  low clouds absent\n",
       "7    Nancy  2013          NaN   9.610720     940.4  low clouds absent\n",
       "8    Nancy  2014          NaN  11.342480     687.7  low clouds absent\n",
       "9    Nancy  2015          NaN  11.123810     584.1  low clouds absent\n",
       "10   Brest  2011  1017.909232  12.065489     991.7      Stratocumulus\n",
       "11   Brest  2012  1016.983505  11.317973    1350.1            Cumulus\n",
       "12   Brest  2013  1016.371207  11.273733    1243.4      Stratocumulus\n",
       "13   Brest  2014  1013.968528  12.264145    1376.9            Cumulus\n",
       "14   Brest  2015  1019.089641  11.961605    1169.2      Stratocumulus"
      ]
     },
     "execution_count": 57,
     "metadata": {},
     "output_type": "execute_result"
    }
   ],
   "source": [
    "# instead we want to fetch atmospheric and rainfall data for matching\n",
    "# meteorological stations and years\n",
    "meteo = atm.merge(rain, on=['station','year'])\n",
    "meteo\n",
    "# NB: this keeps only the rows for which data is in both DataFrames"
   ]
  },
  {
   "cell_type": "code",
   "execution_count": 58,
   "id": "f9167f05",
   "metadata": {},
   "outputs": [
    {
     "data": {
      "text/html": [
       "<div>\n",
       "<style scoped>\n",
       "    .dataframe tbody tr th:only-of-type {\n",
       "        vertical-align: middle;\n",
       "    }\n",
       "\n",
       "    .dataframe tbody tr th {\n",
       "        vertical-align: top;\n",
       "    }\n",
       "\n",
       "    .dataframe thead th {\n",
       "        text-align: right;\n",
       "    }\n",
       "</style>\n",
       "<table border=\"1\" class=\"dataframe\">\n",
       "  <thead>\n",
       "    <tr style=\"text-align: right;\">\n",
       "      <th></th>\n",
       "      <th>station</th>\n",
       "      <th>year</th>\n",
       "      <th>press</th>\n",
       "      <th>tempC</th>\n",
       "      <th>rainfall</th>\n",
       "      <th>cloud_cover</th>\n",
       "    </tr>\n",
       "  </thead>\n",
       "  <tbody>\n",
       "    <tr>\n",
       "      <th>0</th>\n",
       "      <td>Toulouse</td>\n",
       "      <td>2010</td>\n",
       "      <td>1014.988136</td>\n",
       "      <td>13.015188</td>\n",
       "      <td>NaN</td>\n",
       "      <td>NaN</td>\n",
       "    </tr>\n",
       "    <tr>\n",
       "      <th>1</th>\n",
       "      <td>Toulouse</td>\n",
       "      <td>2011</td>\n",
       "      <td>1019.007981</td>\n",
       "      <td>14.792045</td>\n",
       "      <td>NaN</td>\n",
       "      <td>NaN</td>\n",
       "    </tr>\n",
       "    <tr>\n",
       "      <th>2</th>\n",
       "      <td>Toulouse</td>\n",
       "      <td>2012</td>\n",
       "      <td>1018.491608</td>\n",
       "      <td>13.964774</td>\n",
       "      <td>NaN</td>\n",
       "      <td>NaN</td>\n",
       "    </tr>\n",
       "    <tr>\n",
       "      <th>3</th>\n",
       "      <td>Toulouse</td>\n",
       "      <td>2013</td>\n",
       "      <td>1017.323449</td>\n",
       "      <td>13.365015</td>\n",
       "      <td>NaN</td>\n",
       "      <td>NaN</td>\n",
       "    </tr>\n",
       "    <tr>\n",
       "      <th>4</th>\n",
       "      <td>Toulouse</td>\n",
       "      <td>2014</td>\n",
       "      <td>1016.241835</td>\n",
       "      <td>14.654432</td>\n",
       "      <td>NaN</td>\n",
       "      <td>NaN</td>\n",
       "    </tr>\n",
       "    <tr>\n",
       "      <th>5</th>\n",
       "      <td>Toulouse</td>\n",
       "      <td>2015</td>\n",
       "      <td>1020.340733</td>\n",
       "      <td>14.574327</td>\n",
       "      <td>NaN</td>\n",
       "      <td>NaN</td>\n",
       "    </tr>\n",
       "    <tr>\n",
       "      <th>6</th>\n",
       "      <td>Nice</td>\n",
       "      <td>2010</td>\n",
       "      <td>1012.067480</td>\n",
       "      <td>15.437177</td>\n",
       "      <td>NaN</td>\n",
       "      <td>NaN</td>\n",
       "    </tr>\n",
       "    <tr>\n",
       "      <th>7</th>\n",
       "      <td>Nice</td>\n",
       "      <td>2011</td>\n",
       "      <td>1016.912644</td>\n",
       "      <td>16.651938</td>\n",
       "      <td>703.8</td>\n",
       "      <td>Stratocumulus</td>\n",
       "    </tr>\n",
       "    <tr>\n",
       "      <th>8</th>\n",
       "      <td>Nice</td>\n",
       "      <td>2012</td>\n",
       "      <td>1015.064896</td>\n",
       "      <td>16.290988</td>\n",
       "      <td>789.4</td>\n",
       "      <td>Stratocumulus</td>\n",
       "    </tr>\n",
       "    <tr>\n",
       "      <th>9</th>\n",
       "      <td>Nice</td>\n",
       "      <td>2013</td>\n",
       "      <td>1013.709868</td>\n",
       "      <td>15.843195</td>\n",
       "      <td>984.2</td>\n",
       "      <td>Stratocumulus</td>\n",
       "    </tr>\n",
       "    <tr>\n",
       "      <th>10</th>\n",
       "      <td>Nice</td>\n",
       "      <td>2014</td>\n",
       "      <td>1013.904799</td>\n",
       "      <td>16.698650</td>\n",
       "      <td>1236.9</td>\n",
       "      <td>Stratocumulus</td>\n",
       "    </tr>\n",
       "    <tr>\n",
       "      <th>11</th>\n",
       "      <td>Nice</td>\n",
       "      <td>2015</td>\n",
       "      <td>1017.046069</td>\n",
       "      <td>16.798935</td>\n",
       "      <td>547.2</td>\n",
       "      <td>low clouds absent</td>\n",
       "    </tr>\n",
       "    <tr>\n",
       "      <th>12</th>\n",
       "      <td>Nancy</td>\n",
       "      <td>2010</td>\n",
       "      <td>NaN</td>\n",
       "      <td>9.124088</td>\n",
       "      <td>NaN</td>\n",
       "      <td>NaN</td>\n",
       "    </tr>\n",
       "    <tr>\n",
       "      <th>13</th>\n",
       "      <td>Nancy</td>\n",
       "      <td>2011</td>\n",
       "      <td>NaN</td>\n",
       "      <td>10.911263</td>\n",
       "      <td>762.0</td>\n",
       "      <td>low clouds absent</td>\n",
       "    </tr>\n",
       "    <tr>\n",
       "      <th>14</th>\n",
       "      <td>Nancy</td>\n",
       "      <td>2012</td>\n",
       "      <td>NaN</td>\n",
       "      <td>10.207777</td>\n",
       "      <td>769.4</td>\n",
       "      <td>low clouds absent</td>\n",
       "    </tr>\n",
       "    <tr>\n",
       "      <th>15</th>\n",
       "      <td>Nancy</td>\n",
       "      <td>2013</td>\n",
       "      <td>NaN</td>\n",
       "      <td>9.610720</td>\n",
       "      <td>940.4</td>\n",
       "      <td>low clouds absent</td>\n",
       "    </tr>\n",
       "    <tr>\n",
       "      <th>16</th>\n",
       "      <td>Nancy</td>\n",
       "      <td>2014</td>\n",
       "      <td>NaN</td>\n",
       "      <td>11.342480</td>\n",
       "      <td>687.7</td>\n",
       "      <td>low clouds absent</td>\n",
       "    </tr>\n",
       "    <tr>\n",
       "      <th>17</th>\n",
       "      <td>Nancy</td>\n",
       "      <td>2015</td>\n",
       "      <td>NaN</td>\n",
       "      <td>11.123810</td>\n",
       "      <td>584.1</td>\n",
       "      <td>low clouds absent</td>\n",
       "    </tr>\n",
       "    <tr>\n",
       "      <th>18</th>\n",
       "      <td>Brest</td>\n",
       "      <td>2010</td>\n",
       "      <td>1014.843689</td>\n",
       "      <td>10.531942</td>\n",
       "      <td>NaN</td>\n",
       "      <td>NaN</td>\n",
       "    </tr>\n",
       "    <tr>\n",
       "      <th>19</th>\n",
       "      <td>Brest</td>\n",
       "      <td>2011</td>\n",
       "      <td>1017.909232</td>\n",
       "      <td>12.065489</td>\n",
       "      <td>991.7</td>\n",
       "      <td>Stratocumulus</td>\n",
       "    </tr>\n",
       "    <tr>\n",
       "      <th>20</th>\n",
       "      <td>Brest</td>\n",
       "      <td>2012</td>\n",
       "      <td>1016.983505</td>\n",
       "      <td>11.317973</td>\n",
       "      <td>1350.1</td>\n",
       "      <td>Cumulus</td>\n",
       "    </tr>\n",
       "    <tr>\n",
       "      <th>21</th>\n",
       "      <td>Brest</td>\n",
       "      <td>2013</td>\n",
       "      <td>1016.371207</td>\n",
       "      <td>11.273733</td>\n",
       "      <td>1243.4</td>\n",
       "      <td>Stratocumulus</td>\n",
       "    </tr>\n",
       "    <tr>\n",
       "      <th>22</th>\n",
       "      <td>Brest</td>\n",
       "      <td>2014</td>\n",
       "      <td>1013.968528</td>\n",
       "      <td>12.264145</td>\n",
       "      <td>1376.9</td>\n",
       "      <td>Cumulus</td>\n",
       "    </tr>\n",
       "    <tr>\n",
       "      <th>23</th>\n",
       "      <td>Brest</td>\n",
       "      <td>2015</td>\n",
       "      <td>1019.089641</td>\n",
       "      <td>11.961605</td>\n",
       "      <td>1169.2</td>\n",
       "      <td>Stratocumulus</td>\n",
       "    </tr>\n",
       "    <tr>\n",
       "      <th>24</th>\n",
       "      <td>Brest</td>\n",
       "      <td>2016</td>\n",
       "      <td>NaN</td>\n",
       "      <td>NaN</td>\n",
       "      <td>1103.4</td>\n",
       "      <td>low clouds absent</td>\n",
       "    </tr>\n",
       "    <tr>\n",
       "      <th>25</th>\n",
       "      <td>Le Puy</td>\n",
       "      <td>2011</td>\n",
       "      <td>NaN</td>\n",
       "      <td>NaN</td>\n",
       "      <td>617.4</td>\n",
       "      <td>Cumulus</td>\n",
       "    </tr>\n",
       "    <tr>\n",
       "      <th>26</th>\n",
       "      <td>Le Puy</td>\n",
       "      <td>2012</td>\n",
       "      <td>NaN</td>\n",
       "      <td>NaN</td>\n",
       "      <td>682.2</td>\n",
       "      <td>low clouds absent</td>\n",
       "    </tr>\n",
       "    <tr>\n",
       "      <th>27</th>\n",
       "      <td>Le Puy</td>\n",
       "      <td>2013</td>\n",
       "      <td>NaN</td>\n",
       "      <td>NaN</td>\n",
       "      <td>694.3</td>\n",
       "      <td>low clouds absent</td>\n",
       "    </tr>\n",
       "    <tr>\n",
       "      <th>28</th>\n",
       "      <td>Le Puy</td>\n",
       "      <td>2014</td>\n",
       "      <td>NaN</td>\n",
       "      <td>NaN</td>\n",
       "      <td>736.0</td>\n",
       "      <td>low clouds absent</td>\n",
       "    </tr>\n",
       "    <tr>\n",
       "      <th>29</th>\n",
       "      <td>Le Puy</td>\n",
       "      <td>2015</td>\n",
       "      <td>NaN</td>\n",
       "      <td>NaN</td>\n",
       "      <td>453.1</td>\n",
       "      <td>low clouds absent</td>\n",
       "    </tr>\n",
       "    <tr>\n",
       "      <th>30</th>\n",
       "      <td>Le Puy</td>\n",
       "      <td>2016</td>\n",
       "      <td>NaN</td>\n",
       "      <td>NaN</td>\n",
       "      <td>707.3</td>\n",
       "      <td>low clouds absent</td>\n",
       "    </tr>\n",
       "    <tr>\n",
       "      <th>31</th>\n",
       "      <td>Nancy</td>\n",
       "      <td>2016</td>\n",
       "      <td>NaN</td>\n",
       "      <td>NaN</td>\n",
       "      <td>774.0</td>\n",
       "      <td>low clouds absent</td>\n",
       "    </tr>\n",
       "    <tr>\n",
       "      <th>32</th>\n",
       "      <td>Nice</td>\n",
       "      <td>2016</td>\n",
       "      <td>NaN</td>\n",
       "      <td>NaN</td>\n",
       "      <td>472.8</td>\n",
       "      <td>low clouds absent</td>\n",
       "    </tr>\n",
       "  </tbody>\n",
       "</table>\n",
       "</div>"
      ],
      "text/plain": [
       "     station  year        press      tempC  rainfall        cloud_cover\n",
       "0   Toulouse  2010  1014.988136  13.015188       NaN                NaN\n",
       "1   Toulouse  2011  1019.007981  14.792045       NaN                NaN\n",
       "2   Toulouse  2012  1018.491608  13.964774       NaN                NaN\n",
       "3   Toulouse  2013  1017.323449  13.365015       NaN                NaN\n",
       "4   Toulouse  2014  1016.241835  14.654432       NaN                NaN\n",
       "5   Toulouse  2015  1020.340733  14.574327       NaN                NaN\n",
       "6       Nice  2010  1012.067480  15.437177       NaN                NaN\n",
       "7       Nice  2011  1016.912644  16.651938     703.8      Stratocumulus\n",
       "8       Nice  2012  1015.064896  16.290988     789.4      Stratocumulus\n",
       "9       Nice  2013  1013.709868  15.843195     984.2      Stratocumulus\n",
       "10      Nice  2014  1013.904799  16.698650    1236.9      Stratocumulus\n",
       "11      Nice  2015  1017.046069  16.798935     547.2  low clouds absent\n",
       "12     Nancy  2010          NaN   9.124088       NaN                NaN\n",
       "13     Nancy  2011          NaN  10.911263     762.0  low clouds absent\n",
       "14     Nancy  2012          NaN  10.207777     769.4  low clouds absent\n",
       "15     Nancy  2013          NaN   9.610720     940.4  low clouds absent\n",
       "16     Nancy  2014          NaN  11.342480     687.7  low clouds absent\n",
       "17     Nancy  2015          NaN  11.123810     584.1  low clouds absent\n",
       "18     Brest  2010  1014.843689  10.531942       NaN                NaN\n",
       "19     Brest  2011  1017.909232  12.065489     991.7      Stratocumulus\n",
       "20     Brest  2012  1016.983505  11.317973    1350.1            Cumulus\n",
       "21     Brest  2013  1016.371207  11.273733    1243.4      Stratocumulus\n",
       "22     Brest  2014  1013.968528  12.264145    1376.9            Cumulus\n",
       "23     Brest  2015  1019.089641  11.961605    1169.2      Stratocumulus\n",
       "24     Brest  2016          NaN        NaN    1103.4  low clouds absent\n",
       "25    Le Puy  2011          NaN        NaN     617.4            Cumulus\n",
       "26    Le Puy  2012          NaN        NaN     682.2  low clouds absent\n",
       "27    Le Puy  2013          NaN        NaN     694.3  low clouds absent\n",
       "28    Le Puy  2014          NaN        NaN     736.0  low clouds absent\n",
       "29    Le Puy  2015          NaN        NaN     453.1  low clouds absent\n",
       "30    Le Puy  2016          NaN        NaN     707.3  low clouds absent\n",
       "31     Nancy  2016          NaN        NaN     774.0  low clouds absent\n",
       "32      Nice  2016          NaN        NaN     472.8  low clouds absent"
      ]
     },
     "execution_count": 58,
     "metadata": {},
     "output_type": "execute_result"
    }
   ],
   "source": [
    "# we can keep all data, in both DataFrames, and the missing\n",
    "# pieces are replaced with NaNs\n",
    "meteo = atm.merge(rain, on=['station','year'], how='outer')\n",
    "meteo"
   ]
  },
  {
   "cell_type": "markdown",
   "id": "dca7563c",
   "metadata": {},
   "source": [
    "**Exercise:** *Combine the `atm` and `rain` DataFrames using `rain` as the reference (i.e. the number and order of rows in the result should be the same as in `rain`, but the information about pressure and temperature should be added when it exists). Which city do you have rainfall for but no atmospheric information? Which year do you have rainfall for but not atmospheric information?*"
   ]
  },
  {
   "cell_type": "code",
   "execution_count": 59,
   "id": "9fdd246d",
   "metadata": {},
   "outputs": [],
   "source": []
  },
  {
   "cell_type": "markdown",
   "id": "cd356c34",
   "metadata": {
    "tags": []
   },
   "source": [
    "# Plotting with matplotlib"
   ]
  },
  {
   "cell_type": "markdown",
   "id": "18fba141",
   "metadata": {},
   "source": [
    "`matplotlib` is the oldest and most common plotting module for Python. Several others build on it to provide higher level interfaces and automate some aspects of plots, such as the creation of legends, ([seaborn](https://seaborn.pydata.org), [plotnine](https://plotnine.readthedocs.io/)). Newer libraries offer an interface to javascript plotting facilities ([plotly](https://plotly.com/python/), [altair](https://altair-viz.github.io)). We'll go for the grandaddy here.\n",
    "\n",
    "In `matplotlib`,we define a `figure` object containing one or more `axes` elements. An `axes` element is an x,y (or x,y,z) plot. The `axes` object has many methods: to create a type of plot, to modify the coordinates, to add a title, to add a legend, etc."
   ]
  },
  {
   "cell_type": "code",
   "execution_count": 60,
   "id": "75f04200",
   "metadata": {},
   "outputs": [
    {
     "data": {
      "image/png": "[encoded data removed]",
      "text/plain": [
       "<Figure size 432x288 with 1 Axes>"
      ]
     },
     "metadata": {
      "needs_background": "light"
     },
     "output_type": "display_data"
    }
   ],
   "source": [
    "from matplotlib import pyplot as plt\n",
    "\n",
    "# open a figure with just one set of axes\n",
    "fig,ax = plt.subplots()\n",
    "# create a scatter plot on this set of axes\n",
    "ax.scatter(atm.press, atm.tempC)\n",
    "# display the plot\n",
    "plt.show()"
   ]
  },
  {
   "cell_type": "code",
   "execution_count": 61,
   "id": "c6922210",
   "metadata": {},
   "outputs": [
    {
     "data": {
      "image/png": "[encoded data removed]",
      "text/plain": [
       "<Figure size 432x288 with 1 Axes>"
      ]
     },
     "metadata": {
      "needs_background": "light"
     },
     "output_type": "display_data"
    }
   ],
   "source": [
    "# or\n",
    "fig,ax = plt.subplots()\n",
    "ax.scatter('press', 'tempC', data=atm)\n",
    "plt.show()"
   ]
  },
  {
   "cell_type": "code",
   "execution_count": 62,
   "id": "a5c36521",
   "metadata": {},
   "outputs": [
    {
     "data": {
      "image/png": "[encoded data removed]",
      "text/plain": [
       "<Figure size 432x288 with 1 Axes>"
      ]
     },
     "metadata": {
      "needs_background": "light"
     },
     "output_type": "display_data"
    }
   ],
   "source": [
    "fig,ax = plt.subplots()\n",
    "ax.scatter(atm.press, atm.tempC)\n",
    "# make it a bit more user friendly with labels\n",
    "ax.set_xlabel('Atmospheric pressure')\n",
    "ax.set_ylabel('Temperature')\n",
    "ax.set_title('A scatter plot')\n",
    "plt.show()"
   ]
  },
  {
   "cell_type": "code",
   "execution_count": 63,
   "id": "c6925f41",
   "metadata": {},
   "outputs": [
    {
     "data": {
      "image/png": "[encoded data removed]",
      "text/plain": [
       "<Figure size 432x288 with 2 Axes>"
      ]
     },
     "metadata": {
      "needs_background": "light"
     },
     "output_type": "display_data"
    }
   ],
   "source": [
    "# now will map a third variable to the color of the point and add a legend\n",
    "\n",
    "# prepare the data\n",
    "meteo = atm.merge(rain, on=['station','year'])\n",
    "\n",
    "fig,ax = plt.subplots()\n",
    "# create a scatter plot layer and save it\n",
    "sc = ax.scatter(meteo.press, meteo.tempC,\n",
    "                # map color to the rainfall column with the colormap viridis\n",
    "                # see https://matplotlib.org/stable/tutorials/colors/colormaps.html\n",
    "                c=meteo.rainfall, cmap='Blues',\n",
    "                # increase the size of markers\n",
    "                s=100)\n",
    "# add a color bar for that scatter plot\n",
    "cb = plt.colorbar(sc)\n",
    "# add a title to the colorbar\n",
    "cb.set_label('Rainfall')\n",
    "\n",
    "ax.set_xlabel('Atmospheric pressure')\n",
    "ax.set_ylabel('Temperature')\n",
    "ax.set_title('A scatter plot')\n",
    "\n",
    "plt.show()\n",
    "# NB: some points have disappeared because we do not have rainfall\n",
    "#     information from them so no color can be chosen"
   ]
  },
  {
   "cell_type": "code",
   "execution_count": 64,
   "id": "925afc7a",
   "metadata": {},
   "outputs": [
    {
     "data": {
      "image/png": "[encoded data removed]",
      "text/plain": [
       "<Figure size 432x288 with 1 Axes>"
      ]
     },
     "metadata": {
      "needs_background": "light"
     },
     "output_type": "display_data"
    }
   ],
   "source": [
    "# if we plot several elements on the same axes,\n",
    "# they are automatically plotted with different colors\n",
    "fig,ax = plt.subplots()\n",
    "stations = atm.station.unique()\n",
    "for sta in stations:\n",
    "    # get the data for that station only\n",
    "    df = atm.loc[atm.station == sta]\n",
    "    # plot the evolution of temperature at this station\n",
    "    # and label this line\n",
    "    ax.plot(df.year, df.tempC, label=sta)\n",
    "# add a legend for all lines on this set of axes\n",
    "ax.legend()\n",
    "ax.set_xlabel('Year')\n",
    "ax.set_ylabel('Temperature')\n",
    "plt.show()"
   ]
  },
  {
   "cell_type": "code",
   "execution_count": 65,
   "id": "ec8a9aed",
   "metadata": {},
   "outputs": [
    {
     "data": {
      "image/png": "[encoded data removed]",
      "text/plain": [
       "<Figure size 432x288 with 4 Axes>"
      ]
     },
     "metadata": {
      "needs_background": "light"
     },
     "output_type": "display_data"
    }
   ],
   "source": [
    "# instead of uing color we will plot each station in in separate subplot\n",
    "\n",
    "stations = atm.station.unique()\n",
    "\n",
    "# create a figure with 4 subplots, arranged on one row\n",
    "fig,axs = plt.subplots(nrows=1, ncols=len(stations))\n",
    "\n",
    "# loop over stations, keeping track of the item number\n",
    "for i,sta in enumerate(stations):\n",
    "    df = atm.loc[atm.station == sta]\n",
    "    # add the line plot to a given set of axes\n",
    "    axs[i].plot(df.year, df.tempC)\n",
    "    # add a title and axes labels to the subplot\n",
    "    axs[i].set_title(sta)\n",
    "    axs[i].set_xlabel('Year')\n",
    "    axs[i].set_ylabel('Temperature')\n",
    "# pack the subplots so that they do not overlap\n",
    "plt.tight_layout()\n",
    "plt.show()"
   ]
  },
  {
   "cell_type": "code",
   "execution_count": 66,
   "id": "181f484d",
   "metadata": {},
   "outputs": [
    {
     "data": {
      "image/png": "[encoded data removed]",
      "text/plain": [
       "<Figure size 432x288 with 4 Axes>"
      ]
     },
     "metadata": {
      "needs_background": "light"
     },
     "output_type": "display_data"
    }
   ],
   "source": [
    "# we will improve that plot a bit so that\n",
    "# - all y axes are the same\n",
    "# - we avoid redundant information\n",
    "\n",
    "stations = atm.station.unique()\n",
    "fig,axs = plt.subplots(nrows=1, ncols=len(stations),\n",
    "                       # share the y scale\n",
    "                       sharey=True)\n",
    "\n",
    "for i,sta in enumerate(np.unique(atm.station)):\n",
    "    df = atm.loc[atm.station == sta]\n",
    "    axs[i].plot(df.year, df.tempC)\n",
    "    axs[i].set_title(sta)\n",
    "    axs[i].set_xlabel('Year')\n",
    "    # only label the first y axis\n",
    "    if (i == 0):\n",
    "        axs[i].set_ylabel('Temperature')\n",
    "# NB: we could also have written\n",
    "# axs[0].set_ylabel('Temperature')\n",
    "# outside of the loop\n",
    "plt.tight_layout()\n",
    "plt.show()"
   ]
  },
  {
   "cell_type": "code",
   "execution_count": 67,
   "id": "71772dcf",
   "metadata": {},
   "outputs": [
    {
     "data": {
      "image/png": "[encoded data removed]",
      "text/plain": [
       "<Figure size 432x288 with 4 Axes>"
      ]
     },
     "metadata": {
      "needs_background": "light"
     },
     "output_type": "display_data"
    }
   ],
   "source": [
    "# if we want to arrange the plots differently we have to be a bit more clever\n",
    "\n",
    "fig,axs = plt.subplots(nrows=2, ncols=2, sharey=True)\n",
    "# axs is actually a numpy array of axes, here with 2 dimensions\n",
    "# here we flatten it into a 1D array to iterate more easily over it\n",
    "axs = axs.flatten()\n",
    "\n",
    "for i,sta in enumerate(stations):\n",
    "    df = atm.loc[atm.station == sta]\n",
    "    axs[i].plot(df.year, df.tempC)\n",
    "    axs[i].set_title(sta)\n",
    "    # and place labels \"intelligently\"\n",
    "    if (i > 1):\n",
    "        axs[i].set_xlabel('Year')\n",
    "    if ((i % 2) == 0): # % is modulo\n",
    "        axs[i].set_ylabel('Temperature')\n",
    "plt.tight_layout()\n",
    "plt.show()"
   ]
  },
  {
   "cell_type": "markdown",
   "id": "9fbc496e",
   "metadata": {},
   "source": [
    "**Exercise:** *From an inner merge of `atm` and `rain`, produce one scatter plot for each station (arranged in subsplots), showing rainfall as a function of atmospheric pressure, with points colored according to temperature. x and y scales should be the same for all subplots; the temperature colorbar can be defined separately for each subplot.*"
   ]
  },
  {
   "cell_type": "code",
   "execution_count": 68,
   "id": "be633ecf",
   "metadata": {},
   "outputs": [],
   "source": []
  },
  {
   "cell_type": "code",
   "execution_count": 69,
   "id": "fa800ce2",
   "metadata": {},
   "outputs": [],
   "source": []
  },
  {
   "cell_type": "markdown",
   "id": "b695b34d",
   "metadata": {},
   "source": [
    "# Defining and using functions"
   ]
  },
  {
   "cell_type": "markdown",
   "id": "67dadacc",
   "metadata": {},
   "source": [
    "When repeating a custom computation, the most natural approach is to code it as a function that we can then call."
   ]
  },
  {
   "cell_type": "code",
   "execution_count": 70,
   "id": "2e67f3dc",
   "metadata": {},
   "outputs": [
    {
     "name": "stdout",
     "output_type": "stream",
     "text": [
      "2+3 = 5\n",
      "4+5 = 9\n"
     ]
    }
   ],
   "source": [
    "# Define a function with two arguments\n",
    "def my_plus(arg1, arg2):\n",
    "    # perform some computation\n",
    "    res = arg1 + arg2\n",
    "    # return the result\n",
    "    return(res)\n",
    "\n",
    "# when calling the function, the arguments can be named\n",
    "print('2+3 =', my_plus(arg1=2, arg2=3))\n",
    "# or jsut given in order\n",
    "print('4+5 =', my_plus(4, 5))"
   ]
  },
  {
   "cell_type": "markdown",
   "id": "a2a5fb9b",
   "metadata": {},
   "source": [
    "Arguments live only inside the function; for example `print(arg1)` would error out. Or"
   ]
  },
  {
   "cell_type": "code",
   "execution_count": 71,
   "id": "f03bf6b2",
   "metadata": {},
   "outputs": [
    {
     "name": "stdout",
     "output_type": "stream",
     "text": [
      "5\n"
     ]
    }
   ],
   "source": [
    "arg1 = 10\n",
    "arg2 = 20\n",
    "print(my_plus(2, 3))\n",
    "# will it be 30? no:"
   ]
  },
  {
   "cell_type": "markdown",
   "id": "7854bfa3",
   "metadata": {},
   "source": [
    "`arg1` and `arg2` defined on the general environement have nothing to do with `arg1` and `arg2` in the function. Sometimes it is practical to store the arguments to a function in a separate object rather than to define then dynamically when calling the function. This is common in machine learning to keep track of different sets of hyperparameters of a model (which are arguments to the model construction function). To do so, one can use a dictionnary and *unpack* it when calling the function."
   ]
  },
  {
   "cell_type": "code",
   "execution_count": 72,
   "id": "108bea3b",
   "metadata": {},
   "outputs": [
    {
     "name": "stdout",
     "output_type": "stream",
     "text": [
      "9\n"
     ]
    }
   ],
   "source": [
    "# define the function arguments\n",
    "args = {'arg1': 4, 'arg2': 5}\n",
    "# unpack it with ** when calling the function\n",
    "print(my_plus(**args))"
   ]
  },
  {
   "cell_type": "markdown",
   "id": "8aaaac26",
   "metadata": {},
   "source": [
    "**Exercise:** *Define a function to convert the temperature from Celsius degrees to Fahrenheit, knowning that `F = 9/5 * C + 32`, apply it to the temperature column of the `atm` DataFrame.*"
   ]
  },
  {
   "cell_type": "code",
   "execution_count": 73,
   "id": "341b3d6e",
   "metadata": {},
   "outputs": [],
   "source": []
  }
 ],
 "metadata": {
  "kernelspec": {
   "display_name": "lab",
   "language": "python",
   "name": "lab"
  },
  "language_info": {
   "codemirror_mode": {
    "name": "ipython",
    "version": 3
   },
   "file_extension": ".py",
   "mimetype": "text/x-python",
   "name": "python",
   "nbconvert_exporter": "python",
   "pygments_lexer": "ipython3",
   "version": "3.10.6"
  },
  "toc-autonumbering": true
 },
 "nbformat": 4,
 "nbformat_minor": 5
}
